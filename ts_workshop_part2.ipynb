{
 "cells": [
  {
   "cell_type": "markdown",
   "metadata": {
    "colab_type": "text",
    "id": "_JrVmHtqaeit"
   },
   "source": [
    "# Outline"
   ]
  },
  {
   "cell_type": "markdown",
   "metadata": {
    "colab_type": "text",
    "id": "xMWuwAnDaeiv"
   },
   "source": [
    "1. [<span style=\"color: gray\">The tree sequence format</span>](ts_workshop_part1.ipynb#ts)\n",
    "2. [Simulations (msprime & slim)](#msprime)\n",
    "3. [Calculating statistics with tree sequences](#stats)\n",
    "4. [<span style=\"color: gray\">Inferring tree sequences (tsinfer)</span>](ts_workshop_part3.ipynb#tsinfer)\n",
    "5. [<span style=\"color: gray\">Metadata in tree sequences</span>](ts_workshop_part3.ipynb#metadata)\n",
    "6. [<span style=\"color: gray\">References and Documentation</span>](ts_workshop_part3.ipynb#ref)"
   ]
  },
  {
   "cell_type": "code",
   "execution_count": 69,
   "metadata": {
    "colab": {},
    "colab_type": "code",
    "id": "IIt2MpE3aeix"
   },
   "outputs": [],
   "source": [
    "from IPython.display import SVG, display, HTML\n",
    "import msprime\n",
    "import pyslim # to interface with SLiM files \n",
    "import numpy as np\n",
    "import matplotlib.pyplot as plt\n"
   ]
  },
  {
   "cell_type": "code",
   "execution_count": 68,
   "metadata": {},
   "outputs": [
    {
     "data": {
      "text/html": [
       "<style>aside {color:grey;}</style>"
      ],
      "text/plain": [
       "<IPython.core.display.HTML object>"
      ]
     },
     "metadata": {},
     "output_type": "display_data"
    }
   ],
   "source": [
    "%%html\n",
    "<style>aside {color:grey;}</style>"
   ]
  },
  {
   "cell_type": "markdown",
   "metadata": {
    "colab_type": "text",
    "id": "f_5JiW4waei-"
   },
   "source": [
    "<a id='msprime'></a>\n",
    "# 2. Simulation"
   ]
  },
  {
   "cell_type": "markdown",
   "metadata": {
    "colab_type": "text",
    "id": "m_law_LbXPxl"
   },
   "source": [
    "## Reverse-time simulations with `msprime`\n",
    "The `msprime` program is an efficient reimplementation of Hudson's $\\texttt{ms}$ simulator which outputs coalescent trees using the tree sequence format. The easiest way to use it is through the Python API, which is well documented at https://msprime.readthedocs.io/en/stable/api.html. "
   ]
  },
  {
   "cell_type": "markdown",
   "metadata": {
    "colab_type": "text",
    "id": "2_pugFw0aejA"
   },
   "source": [
    "Running simulations is very straightforward, and produces trees with branch lengths as expected under the full coalescent."
   ]
  },
  {
   "cell_type": "code",
   "execution_count": 4,
   "metadata": {
    "colab": {
     "base_uri": "https://localhost:8080/",
     "height": 238
    },
    "colab_type": "code",
    "id": "Iy634SNfaejB",
    "outputId": "8c22e2f5-9d9f-4a52-f576-b2cc424e3539"
   },
   "outputs": [
    {
     "name": "stdout",
     "output_type": "stream",
     "text": [
      "Number of Trees: 1\n"
     ]
    },
    {
     "data": {
      "image/svg+xml": [
       "<svg baseProfile=\"full\" height=\"200\" version=\"1.1\" width=\"200\" xmlns=\"http://www.w3.org/2000/svg\" xmlns:ev=\"http://www.w3.org/2001/xml-events\" xmlns:xlink=\"http://www.w3.org/1999/xlink\"><defs/><g id=\"lines\" stroke=\"black\"><line x1=\"25.0\" x2=\"25.0\" y1=\"180.0\" y2=\"20.0\"/><line x1=\"25.0\" x2=\"57.8125\" y1=\"20.0\" y2=\"20.0\"/><line x1=\"90.625\" x2=\"90.625\" y1=\"58.8347028264524\" y2=\"20.0\"/><line x1=\"90.625\" x2=\"57.8125\" y1=\"20.0\" y2=\"20.0\"/><line x1=\"62.5\" x2=\"62.5\" y1=\"162.69398775897568\" y2=\"58.8347028264524\"/><line x1=\"62.5\" x2=\"90.625\" y1=\"58.8347028264524\" y2=\"58.8347028264524\"/><line x1=\"50.0\" x2=\"50.0\" y1=\"180.0\" y2=\"162.69398775897568\"/><line x1=\"50.0\" x2=\"62.5\" y1=\"162.69398775897568\" y2=\"162.69398775897568\"/><line x1=\"75.0\" x2=\"75.0\" y1=\"180.0\" y2=\"162.69398775897568\"/><line x1=\"75.0\" x2=\"62.5\" y1=\"162.69398775897568\" y2=\"162.69398775897568\"/><line x1=\"118.75\" x2=\"118.75\" y1=\"110.17683905207366\" y2=\"58.8347028264524\"/><line x1=\"118.75\" x2=\"90.625\" y1=\"58.8347028264524\" y2=\"58.8347028264524\"/><line x1=\"100.0\" x2=\"100.0\" y1=\"180.0\" y2=\"110.17683905207366\"/><line x1=\"100.0\" x2=\"118.75\" y1=\"110.17683905207366\" y2=\"110.17683905207366\"/><line x1=\"137.5\" x2=\"137.5\" y1=\"150.687999383055\" y2=\"110.17683905207366\"/><line x1=\"137.5\" x2=\"118.75\" y1=\"110.17683905207366\" y2=\"110.17683905207366\"/><line x1=\"125.0\" x2=\"125.0\" y1=\"180.0\" y2=\"150.687999383055\"/><line x1=\"125.0\" x2=\"137.5\" y1=\"150.687999383055\" y2=\"150.687999383055\"/><line x1=\"150.0\" x2=\"150.0\" y1=\"180.0\" y2=\"150.687999383055\"/><line x1=\"150.0\" x2=\"137.5\" y1=\"150.687999383055\" y2=\"150.687999383055\"/></g><g font-size=\"14\" text-anchor=\"start\"><text x=\"95.625\" y=\"53.8347028264524\">9</text><text x=\"123.75\" y=\"105.17683905207366\">8</text><text x=\"142.5\" y=\"145.687999383055\">7</text></g><g font-size=\"14\" text-anchor=\"end\"><text x=\"57.5\" y=\"157.69398775897568\">6</text></g><g font-size=\"14\" text-anchor=\"middle\"><text x=\"57.8125\" y=\"15.0\">10</text><text x=\"25.0\" y=\"200.0\">2</text><text x=\"50.0\" y=\"200.0\">4</text><text x=\"75.0\" y=\"200.0\">5</text><text x=\"100.0\" y=\"200.0\">0</text><text x=\"125.0\" y=\"200.0\">1</text><text x=\"150.0\" y=\"200.0\">3</text></g><circle cx=\"57.8125\" cy=\"20.0\" fill=\"black\" r=\"3\"/><circle cx=\"25.0\" cy=\"180.0\" fill=\"black\" r=\"3\"/><circle cx=\"90.625\" cy=\"58.8347028264524\" fill=\"black\" r=\"3\"/><circle cx=\"62.5\" cy=\"162.69398775897568\" fill=\"black\" r=\"3\"/><circle cx=\"50.0\" cy=\"180.0\" fill=\"black\" r=\"3\"/><circle cx=\"75.0\" cy=\"180.0\" fill=\"black\" r=\"3\"/><circle cx=\"118.75\" cy=\"110.17683905207366\" fill=\"black\" r=\"3\"/><circle cx=\"100.0\" cy=\"180.0\" fill=\"black\" r=\"3\"/><circle cx=\"137.5\" cy=\"150.687999383055\" fill=\"black\" r=\"3\"/><circle cx=\"125.0\" cy=\"180.0\" fill=\"black\" r=\"3\"/><circle cx=\"150.0\" cy=\"180.0\" fill=\"black\" r=\"3\"/><g alignment-baseline=\"middle\" font-size=\"14\" font-style=\"italic\" text-anchor=\"start\"/><g alignment-baseline=\"middle\" font-size=\"14\" font-style=\"italic\" text-anchor=\"end\"/></svg>"
      ],
      "text/plain": [
       "<IPython.core.display.SVG object>"
      ]
     },
     "execution_count": 4,
     "metadata": {},
     "output_type": "execute_result"
    }
   ],
   "source": [
    "# simulate the coalescent for 6 samples, with effective population size of 10,000\n",
    "# since the recombination rate defaults to zero, we should have only one tree\n",
    "singular_tree_seq = msprime.simulate(sample_size=6, Ne=10000, random_seed=10)\n",
    "\n",
    "# check there is only one tree in this ts\n",
    "print(\"Number of Trees:\",singular_tree_seq.num_trees)\n",
    "\n",
    "#take the first (only) tree and visualize\n",
    "first_tree=singular_tree_seq.first()\n",
    "SVG(first_tree.draw())"
   ]
  },
  {
   "cell_type": "markdown",
   "metadata": {
    "colab_type": "text",
    "id": "v_emuNdnaejG"
   },
   "source": [
    "Here, we simulate the coalescent for a sample of size six with an effective population size of 10000 diploids, and then print out a depiction of the resulting tree. The `simulate()` function returns a standard `TreeSequence` object. Here there is only one tree because we have not provided a value for recombination_rate, which therefore defaults to zero. We can access the first (and only) tree in this sequence using `first()` method of a `TreeSequence` object.\n",
    "\n",
    "Note that although it is common for the lowest numbered nodes to correspond to the samples (i.e. tips of the trees, here with IDs 0 to 5) and the internal nodes to take higher values (e.g. the root node with ID 10), this may not always be the case e.g. in complex forward simulations or with ancient samples. Sometimes you may wish to check which node IDs correspond to samples, as follows:"
   ]
  },
  {
   "cell_type": "code",
   "execution_count": 5,
   "metadata": {
    "colab": {
     "base_uri": "https://localhost:8080/",
     "height": 34
    },
    "colab_type": "code",
    "id": "8qYRvCrc_PKn",
    "outputId": "38658206-53de-4c9a-9334-a892383dc61d"
   },
   "outputs": [
    {
     "data": {
      "text/plain": [
       "array([0, 1, 2, 3, 4, 5], dtype=int32)"
      ]
     },
     "execution_count": 5,
     "metadata": {},
     "output_type": "execute_result"
    }
   ],
   "source": [
    "singular_tree_seq.samples()"
   ]
  },
  {
   "cell_type": "markdown",
   "metadata": {
    "colab_type": "text",
    "id": "YYE_GHMd_QI_"
   },
   "source": [
    "\n",
    "Since the simulation was a basic one, the 6 samples take the first 6 node IDs. We can easily trace our path back to the root from a particular sample (e.g. the sample genome with ID 3) for any tree using the `parent()` method:"
   ]
  },
  {
   "cell_type": "code",
   "execution_count": 6,
   "metadata": {
    "colab": {
     "base_uri": "https://localhost:8080/",
     "height": 102
    },
    "colab_type": "code",
    "id": "A6Ycc218aejH",
    "outputId": "7bf4fa2f-00c8-4ae8-b08a-69020a546875"
   },
   "outputs": [
    {
     "name": "stdout",
     "output_type": "stream",
     "text": [
      "node 3: time = 0.0\n",
      "node 7: time = 3332.0162387549144\n",
      "node 8: time = 7937.08724150321\n",
      "node 9: time = 13773.360032014867\n",
      "node 10: time = 18187.861182446646\n"
     ]
    }
   ],
   "source": [
    "node_id = 3\n",
    "while node_id != msprime.NULL_NODE:\n",
    "  print(\"node {}: time = {}\".format(node_id, first_tree.time(node_id)))\n",
    "  node_id = first_tree.parent(node_id)"
   ]
  },
  {
   "cell_type": "markdown",
   "metadata": {
    "colab_type": "text",
    "id": "NBdFexzMi9ER"
   },
   "source": [
    "Here we have iterated up the tree starting at node 3, stopping when we reached the root. We know that a node is a root if its parent is `msprime.NULL_NODE`, which is a special reserved node. (The value of the null node is -1, but we recommend using the symbolic constant to make code more readable.) We also use the `time()` method to get the time for each node, which corresponds to the time in generations at which the coalescence event happened during the simulation. \n",
    "\n",
    "We can also obtain the length of a branch joining a node to its parent using the `branch_length()` method; the total branch length in the tree is also stored in the `total_branch_length` attribute: "
   ]
  },
  {
   "cell_type": "code",
   "execution_count": 27,
   "metadata": {
    "colab": {
     "base_uri": "https://localhost:8080/",
     "height": 51
    },
    "colab_type": "code",
    "id": "X04SaQQfa5Gg",
    "outputId": "ab99ce05-6a23-4cfb-951b-69001eb60923",
    "scrolled": true
   },
   "outputs": [
    {
     "name": "stdout",
     "output_type": "stream",
     "text": [
      "Branch length above node 7 is 4605.0710027482955\n",
      "Total branch length in tree is 63385.43180380048\n"
     ]
    }
   ],
   "source": [
    "node = 7\n",
    "print(\"Branch length above node\", node, \"is\", first_tree.branch_length(node))\n",
    "print(\"Total branch length in tree is\", first_tree.total_branch_length)"
   ]
  },
  {
   "cell_type": "markdown",
   "metadata": {},
   "source": [
    "We can also do the standard tree traversals using the ``nodes`` iterator:"
   ]
  },
  {
   "cell_type": "code",
   "execution_count": 111,
   "metadata": {},
   "outputs": [
    {
     "data": {
      "image/svg+xml": [
       "<svg baseProfile=\"full\" height=\"200\" version=\"1.1\" width=\"200\" xmlns=\"http://www.w3.org/2000/svg\" xmlns:ev=\"http://www.w3.org/2001/xml-events\" xmlns:xlink=\"http://www.w3.org/1999/xlink\"><defs/><g id=\"lines\" stroke=\"black\"><line x1=\"25.0\" x2=\"25.0\" y1=\"180.0\" y2=\"20.0\"/><line x1=\"25.0\" x2=\"57.8125\" y1=\"20.0\" y2=\"20.0\"/><line x1=\"90.625\" x2=\"90.625\" y1=\"58.8347028264524\" y2=\"20.0\"/><line x1=\"90.625\" x2=\"57.8125\" y1=\"20.0\" y2=\"20.0\"/><line x1=\"62.5\" x2=\"62.5\" y1=\"162.69398775897568\" y2=\"58.8347028264524\"/><line x1=\"62.5\" x2=\"90.625\" y1=\"58.8347028264524\" y2=\"58.8347028264524\"/><line x1=\"50.0\" x2=\"50.0\" y1=\"180.0\" y2=\"162.69398775897568\"/><line x1=\"50.0\" x2=\"62.5\" y1=\"162.69398775897568\" y2=\"162.69398775897568\"/><line x1=\"75.0\" x2=\"75.0\" y1=\"180.0\" y2=\"162.69398775897568\"/><line x1=\"75.0\" x2=\"62.5\" y1=\"162.69398775897568\" y2=\"162.69398775897568\"/><line x1=\"118.75\" x2=\"118.75\" y1=\"110.17683905207366\" y2=\"58.8347028264524\"/><line x1=\"118.75\" x2=\"90.625\" y1=\"58.8347028264524\" y2=\"58.8347028264524\"/><line x1=\"100.0\" x2=\"100.0\" y1=\"180.0\" y2=\"110.17683905207366\"/><line x1=\"100.0\" x2=\"118.75\" y1=\"110.17683905207366\" y2=\"110.17683905207366\"/><line x1=\"137.5\" x2=\"137.5\" y1=\"150.687999383055\" y2=\"110.17683905207366\"/><line x1=\"137.5\" x2=\"118.75\" y1=\"110.17683905207366\" y2=\"110.17683905207366\"/><line x1=\"125.0\" x2=\"125.0\" y1=\"180.0\" y2=\"150.687999383055\"/><line x1=\"125.0\" x2=\"137.5\" y1=\"150.687999383055\" y2=\"150.687999383055\"/><line x1=\"150.0\" x2=\"150.0\" y1=\"180.0\" y2=\"150.687999383055\"/><line x1=\"150.0\" x2=\"137.5\" y1=\"150.687999383055\" y2=\"150.687999383055\"/></g><g font-size=\"14\" text-anchor=\"start\"><text x=\"95.625\" y=\"53.8347028264524\">9</text><text x=\"123.75\" y=\"105.17683905207366\">8</text><text x=\"142.5\" y=\"145.687999383055\">7</text></g><g font-size=\"14\" text-anchor=\"end\"><text x=\"57.5\" y=\"157.69398775897568\">6</text></g><g font-size=\"14\" text-anchor=\"middle\"><text x=\"57.8125\" y=\"15.0\">10</text><text x=\"25.0\" y=\"200.0\">2</text><text x=\"50.0\" y=\"200.0\">4</text><text x=\"75.0\" y=\"200.0\">5</text><text x=\"100.0\" y=\"200.0\">0</text><text x=\"125.0\" y=\"200.0\">1</text><text x=\"150.0\" y=\"200.0\">3</text></g><circle cx=\"57.8125\" cy=\"20.0\" fill=\"black\" r=\"3\"/><circle cx=\"25.0\" cy=\"180.0\" fill=\"black\" r=\"3\"/><circle cx=\"90.625\" cy=\"58.8347028264524\" fill=\"black\" r=\"3\"/><circle cx=\"62.5\" cy=\"162.69398775897568\" fill=\"black\" r=\"3\"/><circle cx=\"50.0\" cy=\"180.0\" fill=\"black\" r=\"3\"/><circle cx=\"75.0\" cy=\"180.0\" fill=\"black\" r=\"3\"/><circle cx=\"118.75\" cy=\"110.17683905207366\" fill=\"black\" r=\"3\"/><circle cx=\"100.0\" cy=\"180.0\" fill=\"black\" r=\"3\"/><circle cx=\"137.5\" cy=\"150.687999383055\" fill=\"black\" r=\"3\"/><circle cx=\"125.0\" cy=\"180.0\" fill=\"black\" r=\"3\"/><circle cx=\"150.0\" cy=\"180.0\" fill=\"black\" r=\"3\"/><g alignment-baseline=\"middle\" font-size=\"14\" font-style=\"italic\" text-anchor=\"start\"/><g alignment-baseline=\"middle\" font-size=\"14\" font-style=\"italic\" text-anchor=\"end\"/></svg>"
      ],
      "text/plain": [
       "<IPython.core.display.SVG object>"
      ]
     },
     "metadata": {},
     "output_type": "display_data"
    },
    {
     "name": "stdout",
     "output_type": "stream",
     "text": [
      "Default:\t [10, 2, 9, 6, 4, 5, 8, 0, 7, 1, 3]\n",
      "Preorder:\t [10, 2, 9, 6, 4, 5, 8, 0, 7, 1, 3]\n",
      "Inorder:\t [2, 10, 4, 6, 5, 9, 0, 8, 1, 7, 3]\n",
      "Postorder:\t [2, 4, 5, 6, 0, 1, 3, 7, 8, 9, 10]\n"
     ]
    }
   ],
   "source": [
    "display(SVG(first_tree.draw()))\n",
    "print(\"Default:\\t\", list(first_tree.nodes()))\n",
    "print(\"Preorder:\\t\", list(first_tree.nodes(order=\"preorder\")))\n",
    "print(\"Inorder:\\t\", list(first_tree.nodes(order=\"inorder\")))\n",
    "print(\"Postorder:\\t\", list(first_tree.nodes(order=\"postorder\")))"
   ]
  },
  {
   "cell_type": "markdown",
   "metadata": {
    "colab_type": "text",
    "id": "KUT_DbQpm_tB"
   },
   "source": [
    "### Recombination\n",
    "Simulating the history of a single locus is a very useful, but we are most often interesting in simulating the history of our sample across large genomic regions under the influence of recombination. The msprime API is specifically designed to make this common requirement both easy and efficient. To model genomic sequences under the influence of recombination we have two parameters to the `simulate()` function. The length parameter specifies the length of the simulated sequence, and is a floating point number, so recombination (and mutation) can occur at any location along the sequence (the units are arbitrary). If length is not supplied, it is assumed to be 1.0. The recombination_rate parameter specifies the rate of crossing over per unit of length per generation, and is zero by default. See the [API Documentation](https://msprime.readthedocs.io/en/stable/api.html#variable-recombination-rates) for a discussion of the precise recombination model used, and how to implement variable recombination rates.\n",
    "\n",
    "Here, we simulate the trees across over a 10kb region with a recombination rate of 2×10−8 per base per generation, with a diploid effective population size of 1000:"
   ]
  },
  {
   "cell_type": "code",
   "execution_count": 8,
   "metadata": {
    "colab": {
     "base_uri": "https://localhost:8080/",
     "height": 731
    },
    "colab_type": "code",
    "id": "N81SjbCbnM37",
    "outputId": "fd7e671f-b816-40df-edd9-c7a9c7445e47"
   },
   "outputs": [
    {
     "name": "stdout",
     "output_type": "stream",
     "text": [
      "--------------------\n",
      "tree 0: interval = (0.0, 2070.5408305093974)\n"
     ]
    },
    {
     "data": {
      "image/svg+xml": [
       "<svg baseProfile=\"full\" height=\"200\" version=\"1.1\" width=\"200\" xmlns=\"http://www.w3.org/2000/svg\" xmlns:ev=\"http://www.w3.org/2001/xml-events\" xmlns:xlink=\"http://www.w3.org/1999/xlink\"><defs/><g id=\"lines\" stroke=\"black\"><line x1=\"25.0\" x2=\"25.0\" y1=\"180.0\" y2=\"20.0\"/><line x1=\"25.0\" x2=\"53.125\" y1=\"20.0\" y2=\"20.0\"/><line x1=\"81.25\" x2=\"81.25\" y1=\"114.09622610329473\" y2=\"20.0\"/><line x1=\"81.25\" x2=\"53.125\" y1=\"20.0\" y2=\"20.0\"/><line x1=\"50.0\" x2=\"50.0\" y1=\"180.0\" y2=\"114.09622610329473\"/><line x1=\"50.0\" x2=\"81.25\" y1=\"114.09622610329473\" y2=\"114.09622610329473\"/><line x1=\"112.5\" x2=\"112.5\" y1=\"170.8186861902187\" y2=\"114.09622610329473\"/><line x1=\"112.5\" x2=\"81.25\" y1=\"114.09622610329473\" y2=\"114.09622610329473\"/><line x1=\"87.5\" x2=\"87.5\" y1=\"179.95099983006878\" y2=\"170.8186861902187\"/><line x1=\"87.5\" x2=\"112.5\" y1=\"170.8186861902187\" y2=\"170.8186861902187\"/><line x1=\"75.0\" x2=\"75.0\" y1=\"180.0\" y2=\"179.95099983006878\"/><line x1=\"75.0\" x2=\"87.5\" y1=\"179.95099983006878\" y2=\"179.95099983006878\"/><line x1=\"100.0\" x2=\"100.0\" y1=\"180.0\" y2=\"179.95099983006878\"/><line x1=\"100.0\" x2=\"87.5\" y1=\"179.95099983006878\" y2=\"179.95099983006878\"/><line x1=\"137.5\" x2=\"137.5\" y1=\"176.83361358129278\" y2=\"170.8186861902187\"/><line x1=\"137.5\" x2=\"112.5\" y1=\"170.8186861902187\" y2=\"170.8186861902187\"/><line x1=\"125.0\" x2=\"125.0\" y1=\"180.0\" y2=\"176.83361358129278\"/><line x1=\"125.0\" x2=\"137.5\" y1=\"176.83361358129278\" y2=\"176.83361358129278\"/><line x1=\"150.0\" x2=\"150.0\" y1=\"180.0\" y2=\"176.83361358129278\"/><line x1=\"150.0\" x2=\"137.5\" y1=\"176.83361358129278\" y2=\"176.83361358129278\"/></g><g font-size=\"14\" text-anchor=\"start\"><text x=\"86.25\" y=\"109.09622610329473\">10</text><text x=\"117.5\" y=\"165.8186861902187\">8</text><text x=\"142.5\" y=\"171.83361358129278\">7</text></g><g font-size=\"14\" text-anchor=\"end\"><text x=\"82.5\" y=\"174.95099983006878\">6</text></g><g font-size=\"14\" text-anchor=\"middle\"><text x=\"53.125\" y=\"15.0\">11</text><text x=\"25.0\" y=\"200.0\">5</text><text x=\"50.0\" y=\"200.0\">2</text><text x=\"75.0\" y=\"200.0\">0</text><text x=\"100.0\" y=\"200.0\">4</text><text x=\"125.0\" y=\"200.0\">1</text><text x=\"150.0\" y=\"200.0\">3</text></g><circle cx=\"53.125\" cy=\"20.0\" fill=\"black\" r=\"3\"/><circle cx=\"25.0\" cy=\"180.0\" fill=\"black\" r=\"3\"/><circle cx=\"81.25\" cy=\"114.09622610329473\" fill=\"black\" r=\"3\"/><circle cx=\"50.0\" cy=\"180.0\" fill=\"black\" r=\"3\"/><circle cx=\"112.5\" cy=\"170.8186861902187\" fill=\"black\" r=\"3\"/><circle cx=\"87.5\" cy=\"179.95099983006878\" fill=\"black\" r=\"3\"/><circle cx=\"75.0\" cy=\"180.0\" fill=\"black\" r=\"3\"/><circle cx=\"100.0\" cy=\"180.0\" fill=\"black\" r=\"3\"/><circle cx=\"137.5\" cy=\"176.83361358129278\" fill=\"black\" r=\"3\"/><circle cx=\"125.0\" cy=\"180.0\" fill=\"black\" r=\"3\"/><circle cx=\"150.0\" cy=\"180.0\" fill=\"black\" r=\"3\"/><g alignment-baseline=\"middle\" font-size=\"14\" font-style=\"italic\" text-anchor=\"start\"/><g alignment-baseline=\"middle\" font-size=\"14\" font-style=\"italic\" text-anchor=\"end\"/></svg>"
      ],
      "text/plain": [
       "<IPython.core.display.SVG object>"
      ]
     },
     "metadata": {},
     "output_type": "display_data"
    },
    {
     "name": "stdout",
     "output_type": "stream",
     "text": [
      "--------------------\n",
      "tree 1: interval = (2070.5408305093974, 10000.0)\n"
     ]
    },
    {
     "data": {
      "image/svg+xml": [
       "<svg baseProfile=\"full\" height=\"200\" version=\"1.1\" width=\"200\" xmlns=\"http://www.w3.org/2000/svg\" xmlns:ev=\"http://www.w3.org/2001/xml-events\" xmlns:xlink=\"http://www.w3.org/1999/xlink\"><defs/><g id=\"lines\" stroke=\"black\"><line x1=\"25.0\" x2=\"25.0\" y1=\"180.0\" y2=\"20.0\"/><line x1=\"25.0\" x2=\"53.125\" y1=\"20.0\" y2=\"20.0\"/><line x1=\"81.25\" x2=\"81.25\" y1=\"131.86260578945203\" y2=\"20.0\"/><line x1=\"81.25\" x2=\"53.125\" y1=\"20.0\" y2=\"20.0\"/><line x1=\"50.0\" x2=\"50.0\" y1=\"180.0\" y2=\"131.86260578945203\"/><line x1=\"50.0\" x2=\"81.25\" y1=\"131.86260578945203\" y2=\"131.86260578945203\"/><line x1=\"112.5\" x2=\"112.5\" y1=\"170.8186861902187\" y2=\"131.86260578945203\"/><line x1=\"112.5\" x2=\"81.25\" y1=\"131.86260578945203\" y2=\"131.86260578945203\"/><line x1=\"87.5\" x2=\"87.5\" y1=\"179.95099983006878\" y2=\"170.8186861902187\"/><line x1=\"87.5\" x2=\"112.5\" y1=\"170.8186861902187\" y2=\"170.8186861902187\"/><line x1=\"75.0\" x2=\"75.0\" y1=\"180.0\" y2=\"179.95099983006878\"/><line x1=\"75.0\" x2=\"87.5\" y1=\"179.95099983006878\" y2=\"179.95099983006878\"/><line x1=\"100.0\" x2=\"100.0\" y1=\"180.0\" y2=\"179.95099983006878\"/><line x1=\"100.0\" x2=\"87.5\" y1=\"179.95099983006878\" y2=\"179.95099983006878\"/><line x1=\"137.5\" x2=\"137.5\" y1=\"176.83361358129278\" y2=\"170.8186861902187\"/><line x1=\"137.5\" x2=\"112.5\" y1=\"170.8186861902187\" y2=\"170.8186861902187\"/><line x1=\"125.0\" x2=\"125.0\" y1=\"180.0\" y2=\"176.83361358129278\"/><line x1=\"125.0\" x2=\"137.5\" y1=\"176.83361358129278\" y2=\"176.83361358129278\"/><line x1=\"150.0\" x2=\"150.0\" y1=\"180.0\" y2=\"176.83361358129278\"/><line x1=\"150.0\" x2=\"137.5\" y1=\"176.83361358129278\" y2=\"176.83361358129278\"/></g><g font-size=\"14\" text-anchor=\"start\"><text x=\"86.25\" y=\"126.86260578945203\">9</text><text x=\"117.5\" y=\"165.8186861902187\">8</text><text x=\"142.5\" y=\"171.83361358129278\">7</text></g><g font-size=\"14\" text-anchor=\"end\"><text x=\"82.5\" y=\"174.95099983006878\">6</text></g><g font-size=\"14\" text-anchor=\"middle\"><text x=\"53.125\" y=\"15.0\">11</text><text x=\"25.0\" y=\"200.0\">5</text><text x=\"50.0\" y=\"200.0\">2</text><text x=\"75.0\" y=\"200.0\">0</text><text x=\"100.0\" y=\"200.0\">4</text><text x=\"125.0\" y=\"200.0\">1</text><text x=\"150.0\" y=\"200.0\">3</text></g><circle cx=\"53.125\" cy=\"20.0\" fill=\"black\" r=\"3\"/><circle cx=\"25.0\" cy=\"180.0\" fill=\"black\" r=\"3\"/><circle cx=\"81.25\" cy=\"131.86260578945203\" fill=\"black\" r=\"3\"/><circle cx=\"50.0\" cy=\"180.0\" fill=\"black\" r=\"3\"/><circle cx=\"112.5\" cy=\"170.8186861902187\" fill=\"black\" r=\"3\"/><circle cx=\"87.5\" cy=\"179.95099983006878\" fill=\"black\" r=\"3\"/><circle cx=\"75.0\" cy=\"180.0\" fill=\"black\" r=\"3\"/><circle cx=\"100.0\" cy=\"180.0\" fill=\"black\" r=\"3\"/><circle cx=\"137.5\" cy=\"176.83361358129278\" fill=\"black\" r=\"3\"/><circle cx=\"125.0\" cy=\"180.0\" fill=\"black\" r=\"3\"/><circle cx=\"150.0\" cy=\"180.0\" fill=\"black\" r=\"3\"/><g alignment-baseline=\"middle\" font-size=\"14\" font-style=\"italic\" text-anchor=\"start\"/><g alignment-baseline=\"middle\" font-size=\"14\" font-style=\"italic\" text-anchor=\"end\"/></svg>"
      ],
      "text/plain": [
       "<IPython.core.display.SVG object>"
      ]
     },
     "metadata": {},
     "output_type": "display_data"
    }
   ],
   "source": [
    "simple_tree_seq = msprime.simulate(\n",
    "  sample_size=6, Ne=1000, length=1e4, recombination_rate=2e-8, random_seed=8)\n",
    "for tree in simple_tree_seq.trees():\n",
    "    print(\"-\" * 20)\n",
    "    print(\"tree {}: interval = {}\".format(tree.index, tree.interval))\n",
    "    display(SVG(tree.draw()))"
   ]
  },
  {
   "cell_type": "markdown",
   "metadata": {
    "colab_type": "text",
    "id": "6W64MiMcnZrF"
   },
   "source": [
    "As before, we use the `trees()` method to iterate over the trees in the sequence. For each tree we print out its index (i.e. its position in the sequence) and the interval the tree covers (i.e. the genomic coordinates which all share precisely this tree) using the index and interval attributes. Thus, the first tree covers the first 2kb of sequence, the second tree covers the remaining 8kb.\n",
    "\n",
    "Note that this is a case where, although there has been a recombination event in the history of the samples, it has not changed the *topology* of the tree. Instead, it has changed the depth of one of the coalescent points: essentially, the subtree defined by node 10 has been pruned, and grafted back onto the same branch, a little lower down."
   ]
  },
  {
   "cell_type": "markdown",
   "metadata": {
    "colab_type": "text",
    "id": "zqm2YK_3nc2z"
   },
   "source": [
    "### Mutations\n",
    "Mutations are generated in msprime by throwing mutations down on the branches of trees at a particular rate. The mutations are generated under the infinite sites model, and so each mutation occurs at a unique (floating point) point position along the genomic interval occupied by a tree. The mutation rate for simulations is specified using the mutation_rate parameter of `simulate()`. For example, the following chunk simulates 50kb of nonrecombining sequence with a mutation rate of 1×10−8 per base per generation:"
   ]
  },
  {
   "cell_type": "code",
   "execution_count": 9,
   "metadata": {
    "colab": {
     "base_uri": "https://localhost:8080/",
     "height": 374
    },
    "colab_type": "code",
    "id": "mKWFGnDqnfo3",
    "outputId": "0fddde7c-7725-4597-a859-cbf0ea5e2fd7"
   },
   "outputs": [
    {
     "name": "stdout",
     "output_type": "stream",
     "text": [
      "Num trees: 1\n",
      "Mutation 0 @ position 1556.54 over node 9\n",
      "Mutation 1 @ position 4485.17 over node 6\n",
      "Mutation 2 @ position 9788.56 over node 6\n",
      "Mutation 3 @ position 11759.03 over node 6\n",
      "Mutation 4 @ position 11949.32 over node 6\n",
      "Mutation 5 @ position 14321.77 over node 9\n",
      "Mutation 6 @ position 31454.99 over node 6\n",
      "Mutation 7 @ position 45125.69 over node 9\n",
      "Mutation 8 @ position 49709.68 over node 6\n"
     ]
    },
    {
     "data": {
      "image/svg+xml": [
       "<svg baseProfile=\"full\" height=\"200\" version=\"1.1\" width=\"200\" xmlns=\"http://www.w3.org/2000/svg\" xmlns:ev=\"http://www.w3.org/2001/xml-events\" xmlns:xlink=\"http://www.w3.org/1999/xlink\"><defs/><g id=\"lines\" stroke=\"black\"><line x1=\"37.5\" x2=\"37.5\" y1=\"177.93205025022553\" y2=\"20.0\"/><line x1=\"37.5\" x2=\"75.0\" y1=\"20.0\" y2=\"20.0\"/><line x1=\"25.0\" x2=\"25.0\" y1=\"180.0\" y2=\"177.93205025022553\"/><line x1=\"25.0\" x2=\"37.5\" y1=\"177.93205025022553\" y2=\"177.93205025022553\"/><line x1=\"50.0\" x2=\"50.0\" y1=\"180.0\" y2=\"177.93205025022553\"/><line x1=\"50.0\" x2=\"37.5\" y1=\"177.93205025022553\" y2=\"177.93205025022553\"/><line x1=\"112.5\" x2=\"112.5\" y1=\"164.03391608222466\" y2=\"20.0\"/><line x1=\"112.5\" x2=\"75.0\" y1=\"20.0\" y2=\"20.0\"/><line x1=\"87.5\" x2=\"87.5\" y1=\"177.1928288141538\" y2=\"164.03391608222466\"/><line x1=\"87.5\" x2=\"112.5\" y1=\"164.03391608222466\" y2=\"164.03391608222466\"/><line x1=\"75.0\" x2=\"75.0\" y1=\"180.0\" y2=\"177.1928288141538\"/><line x1=\"75.0\" x2=\"87.5\" y1=\"177.1928288141538\" y2=\"177.1928288141538\"/><line x1=\"100.0\" x2=\"100.0\" y1=\"180.0\" y2=\"177.1928288141538\"/><line x1=\"100.0\" x2=\"87.5\" y1=\"177.1928288141538\" y2=\"177.1928288141538\"/><line x1=\"137.5\" x2=\"137.5\" y1=\"176.29863793066755\" y2=\"164.03391608222466\"/><line x1=\"137.5\" x2=\"112.5\" y1=\"164.03391608222466\" y2=\"164.03391608222466\"/><line x1=\"125.0\" x2=\"125.0\" y1=\"180.0\" y2=\"176.29863793066755\"/><line x1=\"125.0\" x2=\"137.5\" y1=\"176.29863793066755\" y2=\"176.29863793066755\"/><line x1=\"150.0\" x2=\"150.0\" y1=\"180.0\" y2=\"176.29863793066755\"/><line x1=\"150.0\" x2=\"137.5\" y1=\"176.29863793066755\" y2=\"176.29863793066755\"/></g><g font-size=\"14\" text-anchor=\"start\"><text x=\"117.5\" y=\"159.03391608222466\">9</text><text x=\"142.5\" y=\"171.29863793066755\">8</text></g><g font-size=\"14\" text-anchor=\"end\"><text x=\"32.5\" y=\"172.93205025022553\">6</text><text x=\"82.5\" y=\"172.1928288141538\">7</text></g><g font-size=\"14\" text-anchor=\"middle\"><text x=\"75.0\" y=\"15.0\">10</text><text x=\"25.0\" y=\"200.0\">0</text><text x=\"50.0\" y=\"200.0\">4</text><text x=\"75.0\" y=\"200.0\">2</text><text x=\"100.0\" y=\"200.0\">5</text><text x=\"125.0\" y=\"200.0\">1</text><text x=\"150.0\" y=\"200.0\">3</text></g><circle cx=\"75.0\" cy=\"20.0\" fill=\"black\" r=\"3\"/><circle cx=\"37.5\" cy=\"177.93205025022553\" fill=\"black\" r=\"3\"/><circle cx=\"25.0\" cy=\"180.0\" fill=\"black\" r=\"3\"/><circle cx=\"50.0\" cy=\"180.0\" fill=\"black\" r=\"3\"/><circle cx=\"112.5\" cy=\"164.03391608222466\" fill=\"black\" r=\"3\"/><circle cx=\"87.5\" cy=\"177.1928288141538\" fill=\"black\" r=\"3\"/><circle cx=\"75.0\" cy=\"180.0\" fill=\"black\" r=\"3\"/><circle cx=\"100.0\" cy=\"180.0\" fill=\"black\" r=\"3\"/><circle cx=\"137.5\" cy=\"176.29863793066755\" fill=\"black\" r=\"3\"/><circle cx=\"125.0\" cy=\"180.0\" fill=\"black\" r=\"3\"/><circle cx=\"150.0\" cy=\"180.0\" fill=\"black\" r=\"3\"/><g alignment-baseline=\"middle\" font-size=\"14\" font-style=\"italic\" text-anchor=\"start\"><text x=\"117.5\" y=\"132.5254370616685\">0</text><text x=\"117.5\" y=\"96.51695804111233\">5</text><text x=\"117.5\" y=\"60.508479020556166\">7</text></g><g alignment-baseline=\"middle\" font-size=\"14\" font-style=\"italic\" text-anchor=\"end\"><text x=\"32.5\" y=\"159.8703287859076\">1</text><text x=\"32.5\" y=\"137.30860732158965\">2</text><text x=\"32.5\" y=\"114.74688585727174\">3</text><text x=\"32.5\" y=\"92.1851643929538\">4</text><text x=\"32.5\" y=\"69.62344292863585\">6</text><text x=\"32.5\" y=\"47.06172146431794\">8</text></g><rect fill=\"red\" height=\"6\" width=\"6\" x=\"109.5\" y=\"125.0254370616685\"/><rect fill=\"red\" height=\"6\" width=\"6\" x=\"109.5\" y=\"89.01695804111233\"/><rect fill=\"red\" height=\"6\" width=\"6\" x=\"109.5\" y=\"53.008479020556166\"/><rect fill=\"red\" height=\"6\" width=\"6\" x=\"34.5\" y=\"152.3703287859076\"/><rect fill=\"red\" height=\"6\" width=\"6\" x=\"34.5\" y=\"129.80860732158965\"/><rect fill=\"red\" height=\"6\" width=\"6\" x=\"34.5\" y=\"107.24688585727174\"/><rect fill=\"red\" height=\"6\" width=\"6\" x=\"34.5\" y=\"84.6851643929538\"/><rect fill=\"red\" height=\"6\" width=\"6\" x=\"34.5\" y=\"62.12344292863585\"/><rect fill=\"red\" height=\"6\" width=\"6\" x=\"34.5\" y=\"39.56172146431794\"/></svg>"
      ],
      "text/plain": [
       "<IPython.core.display.SVG object>"
      ]
     },
     "metadata": {},
     "output_type": "display_data"
    }
   ],
   "source": [
    "mut_tree_seq = msprime.simulate(\n",
    "  sample_size=6, Ne=1000, length=50e3, mutation_rate=1e-8, random_seed=30)\n",
    "print(\"Num trees:\", mut_tree_seq.num_trees)\n",
    "tree = mut_tree_seq.first()\n",
    "for site in tree.sites():\n",
    "    for mutation in site.mutations:\n",
    "        print(\"Mutation {} @ position {:.2f} over node {}\".format(\n",
    "        mutation.id, site.position, mutation.node))\n",
    "display(SVG(tree.draw()))"
   ]
  },
  {
   "cell_type": "markdown",
   "metadata": {
    "colab_type": "text",
    "id": "vrwPN2TMoH2A"
   },
   "source": [
    "Mutations in the tree sequence lead to variable sites. By default, `msprime` creates mutations where the original (ancestral) state is `0` and the derived state is `1`. For example, in the above example, only samples 0 and 4 inherit the mutations *1* and *2* (which are at positions 4485.17 and 9788.56 along the sequence), meaning that they both have the variant `1` at those positions, whereas the other samples have the variant `0` at those positions.\n",
    "\n",
    "It should be clear that the mutations plus tree are enough to reconstruct the state of the variant sites for all samples. Thus the full tree sequence structure (which includes all mutations) encodes the full variant matrix. Often we do not need to actually deal with the variant matrix; nevertheless we will see later how to take a tree sequence and save the variant matrix as a VCF file, or extract the distribution of a specific variant into a numpy array for further analysis."
   ]
  },
  {
   "cell_type": "markdown",
   "metadata": {
    "colab_type": "text",
    "id": "lnEIoOjBQJGT"
   },
   "source": [
    "### Population structure in `msprime`\n",
    "`Msprime` provides a flexible and simple way to model past demographic events in arbitrary combinations. Here is an example, taken from the [`msprime` documentation](https://msprime.readthedocs.io/en/stable/tutorial.html#demography), describing the Gutenkunst et al. out-of-Africa model (2009). Figure 2B is a schematic of this model, reproduced below. See [Table 1](https://journals.plos.org/plosgenetics/article/figure?id=10.1371/journal.pgen.1000695.t001)  for the values used. Coalescent simulation moves from the present back into the past, so times are in units of generations ago, and we build the model with most recent events first.\n",
    "\n",
    "The following is figure 2b from the paper:\n",
    "\n",
    "<img style=\"width: 400px;\" src=\"images/gutenkunst_cropped_fig2b.png\">"
   ]
  },
  {
   "cell_type": "code",
   "execution_count": 48,
   "metadata": {
    "colab": {},
    "colab_type": "code",
    "id": "Qy99bUpPQal5"
   },
   "outputs": [],
   "source": [
    "import math\n",
    "def out_of_africa():\n",
    "    # First we set out the maximum likelihood values of the various parameters\n",
    "    # given in Table 1.\n",
    "    N_A = 7300\n",
    "    N_B = 2100\n",
    " \n",
    "    N_AF = 12300\n",
    "    N_EU0 = 1000\n",
    "    N_AS0 = 510\n",
    "    \n",
    "    # Times are provided in years, so we convert into generations.\n",
    "    generation_time = 25\n",
    "    T_AF = 220e3 / generation_time\n",
    "    T_B = 140e3 / generation_time\n",
    "    T_EU_AS = 21.2e3 / generation_time\n",
    "    # We need to work out the starting (diploid) population sizes based on\n",
    "    # the growth rates provided for these two populations\n",
    "    r_EU = 0.004\n",
    "    r_AS = 0.0055\n",
    "    N_EU = N_EU0 / math.exp(-r_EU * T_EU_AS)\n",
    "    N_AS = N_AS0 / math.exp(-r_AS * T_EU_AS)\n",
    "    # Migration rates during the various epochs.\n",
    "    m_AF_B = 25e-5\n",
    "    m_AF_EU = 3e-5\n",
    "    m_AF_AS = 1.9e-5\n",
    "    m_EU_AS = 9.6e-5\n",
    "    # Population IDs correspond to their indexes in the population\n",
    "    # configuration array. Therefore, we have 0=YRI, 1=CEU and 2=CHB\n",
    "    # initially.\n",
    "    model = dict(\n",
    "        #we simulate two chromosomes from each population\n",
    "        population_configurations = [\n",
    "            msprime.PopulationConfiguration(\n",
    "                sample_size=2, initial_size=N_AF),\n",
    "            msprime.PopulationConfiguration(\n",
    "                sample_size=2, initial_size=N_EU, growth_rate=r_EU),\n",
    "            msprime.PopulationConfiguration(\n",
    "                sample_size=2, initial_size=N_AS, growth_rate=r_AS)\n",
    "        ],\n",
    "        migration_matrix = [\n",
    "            [      0, m_AF_EU, m_AF_AS],\n",
    "            [m_AF_EU,       0, m_EU_AS],\n",
    "            [m_AF_AS, m_EU_AS,       0],\n",
    "        ],\n",
    "        demographic_events = [\n",
    "            # CEU and CHB merge into B with rate changes at T_EU_AS\n",
    "            msprime.MassMigration(\n",
    "                time=T_EU_AS, source=2, destination=1, proportion=1.0),\n",
    "            msprime.MigrationRateChange(time=T_EU_AS, rate=0),\n",
    "            msprime.MigrationRateChange(\n",
    "                time=T_EU_AS, rate=m_AF_B, matrix_index=(0, 1)),\n",
    "            msprime.MigrationRateChange(\n",
    "                time=T_EU_AS, rate=m_AF_B, matrix_index=(1, 0)),\n",
    "            msprime.PopulationParametersChange(\n",
    "                time=T_EU_AS, initial_size=N_B, growth_rate=0, population_id=1),\n",
    "            # Population B merges into YRI at T_B\n",
    "            msprime.MassMigration(\n",
    "                time=T_B, source=1, destination=0, proportion=1.0),\n",
    "            # Size changes to N_A at T_AF\n",
    "            msprime.PopulationParametersChange(\n",
    "                time=T_AF, initial_size=N_A, population_id=0)\n",
    "        ]\n",
    "    )\n",
    "    # Use the demography debugger to print out the demographic history\n",
    "    # that we have just described.\n",
    "    dd = msprime.DemographyDebugger(\n",
    "        population_configurations=model[\"population_configurations\"],\n",
    "        migration_matrix=model[\"migration_matrix\"],\n",
    "        demographic_events=model[\"demographic_events\"])\n",
    "    dd.print_history()\n",
    "    return model"
   ]
  },
  {
   "cell_type": "markdown",
   "metadata": {
    "colab_type": "text",
    "id": "HjAXzo3sUzcW"
   },
   "source": [
    "The DemographyDebugger provides a method to debug the history that you have described so that you can be sure that the migration rates, population sizes and growth rates are all as you intend during each epoch:"
   ]
  },
  {
   "cell_type": "code",
   "execution_count": 49,
   "metadata": {
    "colab": {
     "base_uri": "https://localhost:8080/",
     "height": 799
    },
    "colab_type": "code",
    "id": "76381zueUSCS",
    "outputId": "caa6d14a-7919-4e0b-8ea5-f28c7a88a6c4"
   },
   "outputs": [
    {
     "name": "stdout",
     "output_type": "stream",
     "text": [
      "=============================\n",
      "Epoch: 0 -- 848.0 generations\n",
      "=============================\n",
      "     start     end      growth_rate |     0        1        2    \n",
      "   -------- --------       -------- | -------- -------- -------- \n",
      "0 |1.23e+04 1.23e+04              0 |     0      3e-05   1.9e-05 \n",
      "1 |2.97e+04   1e+03           0.004 |   3e-05      0     9.6e-05 \n",
      "2 |5.41e+04    510           0.0055 |  1.9e-05  9.6e-05     0    \n",
      "\n",
      "Events @ generation 848.0\n",
      "   - Mass migration: lineages move from 2 to 1 with probability 1.0\n",
      "   - Migration rate change to 0 everywhere\n",
      "   - Migration rate change for (0, 1) to 0.00025\n",
      "   - Migration rate change for (1, 0) to 0.00025\n",
      "   - Population parameter change for 1: initial_size -> 2100 growth_rate -> 0 \n",
      "==================================\n",
      "Epoch: 848.0 -- 5600.0 generations\n",
      "==================================\n",
      "     start     end      growth_rate |     0        1        2    \n",
      "   -------- --------       -------- | -------- -------- -------- \n",
      "0 |1.23e+04 1.23e+04              0 |     0     0.00025     0    \n",
      "1 | 2.1e+03  2.1e+03              0 |  0.00025     0        0    \n",
      "2 |   510   2.27e-09         0.0055 |     0        0        0    \n",
      "\n",
      "Events @ generation 5600.0\n",
      "   - Mass migration: lineages move from 1 to 0 with probability 1.0\n",
      "===================================\n",
      "Epoch: 5600.0 -- 8800.0 generations\n",
      "===================================\n",
      "     start     end      growth_rate |     0        1        2    \n",
      "   -------- --------       -------- | -------- -------- -------- \n",
      "0 |1.23e+04 1.23e+04              0 |     0     0.00025     0    \n",
      "1 | 2.1e+03  2.1e+03              0 |  0.00025     0        0    \n",
      "2 |2.27e-09 5.17e-17         0.0055 |     0        0        0    \n",
      "\n",
      "Events @ generation 8800.0\n",
      "   - Population parameter change for 0: initial_size -> 7300 \n",
      "================================\n",
      "Epoch: 8800.0 -- inf generations\n",
      "================================\n",
      "     start     end      growth_rate |     0        1        2    \n",
      "   -------- --------       -------- | -------- -------- -------- \n",
      "0 | 7.3e+03  7.3e+03              0 |     0     0.00025     0    \n",
      "1 | 2.1e+03  2.1e+03              0 |  0.00025     0        0    \n",
      "2 |5.17e-17     0            0.0055 |     0        0        0    \n",
      "\n"
     ]
    }
   ],
   "source": [
    "model = out_of_africa()\n",
    "OOA_tree_seq = msprime.simulate(**model,\n",
    "                              length=5e3, \n",
    "                              recombination_rate=1e-8, \n",
    "                              random_seed=11)"
   ]
  },
  {
   "cell_type": "markdown",
   "metadata": {
    "colab_type": "text",
    "id": "qxk2Z7rQYQ6P"
   },
   "source": [
    "Let's look at the output from running the simulation with the following parameters:"
   ]
  },
  {
   "cell_type": "code",
   "execution_count": 50,
   "metadata": {
    "colab": {
     "base_uri": "https://localhost:8080/",
     "height": 1241
    },
    "colab_type": "code",
    "id": "Oek_DGeDVhh_",
    "outputId": "670455c1-9840-4161-856c-74972e1463ef"
   },
   "outputs": [
    {
     "data": {
      "image/svg+xml": [
       "<svg baseProfile=\"full\" height=\"200\" version=\"1.1\" width=\"500\" xmlns=\"http://www.w3.org/2000/svg\" xmlns:ev=\"http://www.w3.org/2001/xml-events\" xmlns:xlink=\"http://www.w3.org/1999/xlink\"><defs/><g id=\"lines\" stroke=\"black\"><line x1=\"62.5\" x2=\"62.5\" y1=\"180.0\" y2=\"20.0\"/><line x1=\"62.5\" x2=\"160.15625\" y1=\"20.0\" y2=\"20.0\"/><line x1=\"257.8125\" x2=\"257.8125\" y1=\"119.95524853947069\" y2=\"20.0\"/><line x1=\"257.8125\" x2=\"160.15625\" y1=\"20.0\" y2=\"20.0\"/><line x1=\"171.875\" x2=\"171.875\" y1=\"170.64708679546445\" y2=\"119.95524853947069\"/><line x1=\"171.875\" x2=\"257.8125\" y1=\"119.95524853947069\" y2=\"119.95524853947069\"/><line x1=\"125.0\" x2=\"125.0\" y1=\"180.0\" y2=\"170.64708679546445\"/><line x1=\"125.0\" x2=\"171.875\" y1=\"170.64708679546445\" y2=\"170.64708679546445\"/><line x1=\"218.75\" x2=\"218.75\" y1=\"177.3853262164539\" y2=\"170.64708679546445\"/><line x1=\"218.75\" x2=\"171.875\" y1=\"170.64708679546445\" y2=\"170.64708679546445\"/><line x1=\"187.5\" x2=\"187.5\" y1=\"180.0\" y2=\"177.3853262164539\"/><line x1=\"187.5\" x2=\"218.75\" y1=\"177.3853262164539\" y2=\"177.3853262164539\"/><line x1=\"250.0\" x2=\"250.0\" y1=\"180.0\" y2=\"177.3853262164539\"/><line x1=\"250.0\" x2=\"218.75\" y1=\"177.3853262164539\" y2=\"177.3853262164539\"/><line x1=\"343.75\" x2=\"343.75\" y1=\"168.03287824570552\" y2=\"119.95524853947069\"/><line x1=\"343.75\" x2=\"257.8125\" y1=\"119.95524853947069\" y2=\"119.95524853947069\"/><line x1=\"312.5\" x2=\"312.5\" y1=\"180.0\" y2=\"168.03287824570552\"/><line x1=\"312.5\" x2=\"343.75\" y1=\"168.03287824570552\" y2=\"168.03287824570552\"/><line x1=\"375.0\" x2=\"375.0\" y1=\"180.0\" y2=\"168.03287824570552\"/><line x1=\"375.0\" x2=\"343.75\" y1=\"168.03287824570552\" y2=\"168.03287824570552\"/></g><g font-size=\"14\" text-anchor=\"start\"/><g font-size=\"14\" text-anchor=\"end\"/><g font-size=\"14\" text-anchor=\"middle\"><text x=\"62.5\" y=\"200.0\">ASN1</text><text x=\"125.0\" y=\"200.0\">ASN2</text><text x=\"187.5\" y=\"200.0\">EUR1</text><text x=\"250.0\" y=\"200.0\">EUR2</text><text x=\"312.5\" y=\"200.0\">AFR1</text><text x=\"375.0\" y=\"200.0\">AFR2</text></g><circle cx=\"160.15625\" cy=\"20.0\" fill=\"black\" r=\"3\"/><circle cx=\"62.5\" cy=\"180.0\" fill=\"black\" r=\"3\"/><circle cx=\"257.8125\" cy=\"119.95524853947069\" fill=\"black\" r=\"3\"/><circle cx=\"171.875\" cy=\"170.64708679546445\" fill=\"black\" r=\"3\"/><circle cx=\"125.0\" cy=\"180.0\" fill=\"black\" r=\"3\"/><circle cx=\"218.75\" cy=\"177.3853262164539\" fill=\"black\" r=\"3\"/><circle cx=\"187.5\" cy=\"180.0\" fill=\"black\" r=\"3\"/><circle cx=\"250.0\" cy=\"180.0\" fill=\"black\" r=\"3\"/><circle cx=\"343.75\" cy=\"168.03287824570552\" fill=\"black\" r=\"3\"/><circle cx=\"312.5\" cy=\"180.0\" fill=\"black\" r=\"3\"/><circle cx=\"375.0\" cy=\"180.0\" fill=\"black\" r=\"3\"/><g alignment-baseline=\"middle\" font-size=\"14\" font-style=\"italic\" text-anchor=\"start\"/><g alignment-baseline=\"middle\" font-size=\"14\" font-style=\"italic\" text-anchor=\"end\"/></svg>"
      ],
      "text/plain": [
       "<IPython.core.display.SVG object>"
      ]
     },
     "metadata": {},
     "output_type": "display_data"
    },
    {
     "data": {
      "image/svg+xml": [
       "<svg baseProfile=\"full\" height=\"200\" version=\"1.1\" width=\"500\" xmlns=\"http://www.w3.org/2000/svg\" xmlns:ev=\"http://www.w3.org/2001/xml-events\" xmlns:xlink=\"http://www.w3.org/1999/xlink\"><defs/><g id=\"lines\" stroke=\"black\"><line x1=\"62.5\" x2=\"62.5\" y1=\"180.0\" y2=\"20.0\"/><line x1=\"62.5\" x2=\"160.15625\" y1=\"20.0\" y2=\"20.0\"/><line x1=\"257.8125\" x2=\"257.8125\" y1=\"118.1989096608003\" y2=\"20.0\"/><line x1=\"257.8125\" x2=\"160.15625\" y1=\"20.0\" y2=\"20.0\"/><line x1=\"171.875\" x2=\"171.875\" y1=\"170.37350942707857\" y2=\"118.1989096608003\"/><line x1=\"171.875\" x2=\"257.8125\" y1=\"118.1989096608003\" y2=\"118.1989096608003\"/><line x1=\"125.0\" x2=\"125.0\" y1=\"180.0\" y2=\"170.37350942707857\"/><line x1=\"125.0\" x2=\"171.875\" y1=\"170.37350942707857\" y2=\"170.37350942707857\"/><line x1=\"218.75\" x2=\"218.75\" y1=\"177.3088457063447\" y2=\"170.37350942707857\"/><line x1=\"218.75\" x2=\"171.875\" y1=\"170.37350942707857\" y2=\"170.37350942707857\"/><line x1=\"187.5\" x2=\"187.5\" y1=\"180.0\" y2=\"177.3088457063447\"/><line x1=\"187.5\" x2=\"218.75\" y1=\"177.3088457063447\" y2=\"177.3088457063447\"/><line x1=\"250.0\" x2=\"250.0\" y1=\"180.0\" y2=\"177.3088457063447\"/><line x1=\"250.0\" x2=\"218.75\" y1=\"177.3088457063447\" y2=\"177.3088457063447\"/><line x1=\"343.75\" x2=\"343.75\" y1=\"167.68283397553037\" y2=\"118.1989096608003\"/><line x1=\"343.75\" x2=\"257.8125\" y1=\"118.1989096608003\" y2=\"118.1989096608003\"/><line x1=\"312.5\" x2=\"312.5\" y1=\"180.0\" y2=\"167.68283397553037\"/><line x1=\"312.5\" x2=\"343.75\" y1=\"167.68283397553037\" y2=\"167.68283397553037\"/><line x1=\"375.0\" x2=\"375.0\" y1=\"180.0\" y2=\"167.68283397553037\"/><line x1=\"375.0\" x2=\"343.75\" y1=\"167.68283397553037\" y2=\"167.68283397553037\"/></g><g font-size=\"14\" text-anchor=\"start\"/><g font-size=\"14\" text-anchor=\"end\"/><g font-size=\"14\" text-anchor=\"middle\"><text x=\"62.5\" y=\"200.0\">ASN1</text><text x=\"125.0\" y=\"200.0\">ASN2</text><text x=\"187.5\" y=\"200.0\">EUR1</text><text x=\"250.0\" y=\"200.0\">EUR2</text><text x=\"312.5\" y=\"200.0\">AFR1</text><text x=\"375.0\" y=\"200.0\">AFR2</text></g><circle cx=\"160.15625\" cy=\"20.0\" fill=\"black\" r=\"3\"/><circle cx=\"62.5\" cy=\"180.0\" fill=\"black\" r=\"3\"/><circle cx=\"257.8125\" cy=\"118.1989096608003\" fill=\"black\" r=\"3\"/><circle cx=\"171.875\" cy=\"170.37350942707857\" fill=\"black\" r=\"3\"/><circle cx=\"125.0\" cy=\"180.0\" fill=\"black\" r=\"3\"/><circle cx=\"218.75\" cy=\"177.3088457063447\" fill=\"black\" r=\"3\"/><circle cx=\"187.5\" cy=\"180.0\" fill=\"black\" r=\"3\"/><circle cx=\"250.0\" cy=\"180.0\" fill=\"black\" r=\"3\"/><circle cx=\"343.75\" cy=\"167.68283397553037\" fill=\"black\" r=\"3\"/><circle cx=\"312.5\" cy=\"180.0\" fill=\"black\" r=\"3\"/><circle cx=\"375.0\" cy=\"180.0\" fill=\"black\" r=\"3\"/><g alignment-baseline=\"middle\" font-size=\"14\" font-style=\"italic\" text-anchor=\"start\"/><g alignment-baseline=\"middle\" font-size=\"14\" font-style=\"italic\" text-anchor=\"end\"/></svg>"
      ],
      "text/plain": [
       "<IPython.core.display.SVG object>"
      ]
     },
     "metadata": {},
     "output_type": "display_data"
    },
    {
     "data": {
      "image/svg+xml": [
       "<svg baseProfile=\"full\" height=\"200\" version=\"1.1\" width=\"500\" xmlns=\"http://www.w3.org/2000/svg\" xmlns:ev=\"http://www.w3.org/2001/xml-events\" xmlns:xlink=\"http://www.w3.org/1999/xlink\"><defs/><g id=\"lines\" stroke=\"black\"><line x1=\"62.5\" x2=\"62.5\" y1=\"180.0\" y2=\"20.0\"/><line x1=\"62.5\" x2=\"160.15625\" y1=\"20.0\" y2=\"20.0\"/><line x1=\"257.8125\" x2=\"257.8125\" y1=\"63.38091431427419\" y2=\"20.0\"/><line x1=\"257.8125\" x2=\"160.15625\" y1=\"20.0\" y2=\"20.0\"/><line x1=\"171.875\" x2=\"171.875\" y1=\"161.83474558758257\" y2=\"63.38091431427419\"/><line x1=\"171.875\" x2=\"257.8125\" y1=\"63.38091431427419\" y2=\"63.38091431427419\"/><line x1=\"125.0\" x2=\"125.0\" y1=\"180.0\" y2=\"161.83474558758257\"/><line x1=\"125.0\" x2=\"171.875\" y1=\"161.83474558758257\" y2=\"161.83474558758257\"/><line x1=\"218.75\" x2=\"218.75\" y1=\"174.92177320104284\" y2=\"161.83474558758257\"/><line x1=\"218.75\" x2=\"171.875\" y1=\"161.83474558758257\" y2=\"161.83474558758257\"/><line x1=\"187.5\" x2=\"187.5\" y1=\"180.0\" y2=\"174.92177320104284\"/><line x1=\"187.5\" x2=\"218.75\" y1=\"174.92177320104284\" y2=\"174.92177320104284\"/><line x1=\"250.0\" x2=\"250.0\" y1=\"180.0\" y2=\"174.92177320104284\"/><line x1=\"250.0\" x2=\"218.75\" y1=\"174.92177320104284\" y2=\"174.92177320104284\"/><line x1=\"343.75\" x2=\"343.75\" y1=\"156.75742236699935\" y2=\"63.38091431427419\"/><line x1=\"343.75\" x2=\"257.8125\" y1=\"63.38091431427419\" y2=\"63.38091431427419\"/><line x1=\"312.5\" x2=\"312.5\" y1=\"180.0\" y2=\"156.75742236699935\"/><line x1=\"312.5\" x2=\"343.75\" y1=\"156.75742236699935\" y2=\"156.75742236699935\"/><line x1=\"375.0\" x2=\"375.0\" y1=\"180.0\" y2=\"156.75742236699935\"/><line x1=\"375.0\" x2=\"343.75\" y1=\"156.75742236699935\" y2=\"156.75742236699935\"/></g><g font-size=\"14\" text-anchor=\"start\"/><g font-size=\"14\" text-anchor=\"end\"/><g font-size=\"14\" text-anchor=\"middle\"><text x=\"62.5\" y=\"200.0\">ASN1</text><text x=\"125.0\" y=\"200.0\">ASN2</text><text x=\"187.5\" y=\"200.0\">EUR1</text><text x=\"250.0\" y=\"200.0\">EUR2</text><text x=\"312.5\" y=\"200.0\">AFR1</text><text x=\"375.0\" y=\"200.0\">AFR2</text></g><circle cx=\"160.15625\" cy=\"20.0\" fill=\"black\" r=\"3\"/><circle cx=\"62.5\" cy=\"180.0\" fill=\"black\" r=\"3\"/><circle cx=\"257.8125\" cy=\"63.38091431427419\" fill=\"black\" r=\"3\"/><circle cx=\"171.875\" cy=\"161.83474558758257\" fill=\"black\" r=\"3\"/><circle cx=\"125.0\" cy=\"180.0\" fill=\"black\" r=\"3\"/><circle cx=\"218.75\" cy=\"174.92177320104284\" fill=\"black\" r=\"3\"/><circle cx=\"187.5\" cy=\"180.0\" fill=\"black\" r=\"3\"/><circle cx=\"250.0\" cy=\"180.0\" fill=\"black\" r=\"3\"/><circle cx=\"343.75\" cy=\"156.75742236699935\" fill=\"black\" r=\"3\"/><circle cx=\"312.5\" cy=\"180.0\" fill=\"black\" r=\"3\"/><circle cx=\"375.0\" cy=\"180.0\" fill=\"black\" r=\"3\"/><g alignment-baseline=\"middle\" font-size=\"14\" font-style=\"italic\" text-anchor=\"start\"/><g alignment-baseline=\"middle\" font-size=\"14\" font-style=\"italic\" text-anchor=\"end\"/></svg>"
      ],
      "text/plain": [
       "<IPython.core.display.SVG object>"
      ]
     },
     "metadata": {},
     "output_type": "display_data"
    },
    {
     "data": {
      "image/svg+xml": [
       "<svg baseProfile=\"full\" height=\"200\" version=\"1.1\" width=\"500\" xmlns=\"http://www.w3.org/2000/svg\" xmlns:ev=\"http://www.w3.org/2001/xml-events\" xmlns:xlink=\"http://www.w3.org/1999/xlink\"><defs/><g id=\"lines\" stroke=\"black\"><line x1=\"62.5\" x2=\"62.5\" y1=\"180.0\" y2=\"20.0\"/><line x1=\"62.5\" x2=\"160.15625\" y1=\"20.0\" y2=\"20.0\"/><line x1=\"257.8125\" x2=\"257.8125\" y1=\"63.38091431427419\" y2=\"20.0\"/><line x1=\"257.8125\" x2=\"160.15625\" y1=\"20.0\" y2=\"20.0\"/><line x1=\"171.875\" x2=\"171.875\" y1=\"161.83474558758257\" y2=\"63.38091431427419\"/><line x1=\"171.875\" x2=\"257.8125\" y1=\"63.38091431427419\" y2=\"63.38091431427419\"/><line x1=\"125.0\" x2=\"125.0\" y1=\"180.0\" y2=\"161.83474558758257\"/><line x1=\"125.0\" x2=\"171.875\" y1=\"161.83474558758257\" y2=\"161.83474558758257\"/><line x1=\"218.75\" x2=\"218.75\" y1=\"174.92177320104284\" y2=\"161.83474558758257\"/><line x1=\"218.75\" x2=\"171.875\" y1=\"161.83474558758257\" y2=\"161.83474558758257\"/><line x1=\"187.5\" x2=\"187.5\" y1=\"180.0\" y2=\"174.92177320104284\"/><line x1=\"187.5\" x2=\"218.75\" y1=\"174.92177320104284\" y2=\"174.92177320104284\"/><line x1=\"250.0\" x2=\"250.0\" y1=\"180.0\" y2=\"174.92177320104284\"/><line x1=\"250.0\" x2=\"218.75\" y1=\"174.92177320104284\" y2=\"174.92177320104284\"/><line x1=\"343.75\" x2=\"343.75\" y1=\"113.48530901563669\" y2=\"63.38091431427419\"/><line x1=\"343.75\" x2=\"257.8125\" y1=\"63.38091431427419\" y2=\"63.38091431427419\"/><line x1=\"312.5\" x2=\"312.5\" y1=\"180.0\" y2=\"113.48530901563669\"/><line x1=\"312.5\" x2=\"343.75\" y1=\"113.48530901563669\" y2=\"113.48530901563669\"/><line x1=\"375.0\" x2=\"375.0\" y1=\"180.0\" y2=\"113.48530901563669\"/><line x1=\"375.0\" x2=\"343.75\" y1=\"113.48530901563669\" y2=\"113.48530901563669\"/></g><g font-size=\"14\" text-anchor=\"start\"/><g font-size=\"14\" text-anchor=\"end\"/><g font-size=\"14\" text-anchor=\"middle\"><text x=\"62.5\" y=\"200.0\">ASN1</text><text x=\"125.0\" y=\"200.0\">ASN2</text><text x=\"187.5\" y=\"200.0\">EUR1</text><text x=\"250.0\" y=\"200.0\">EUR2</text><text x=\"312.5\" y=\"200.0\">AFR1</text><text x=\"375.0\" y=\"200.0\">AFR2</text></g><circle cx=\"160.15625\" cy=\"20.0\" fill=\"black\" r=\"3\"/><circle cx=\"62.5\" cy=\"180.0\" fill=\"black\" r=\"3\"/><circle cx=\"257.8125\" cy=\"63.38091431427419\" fill=\"black\" r=\"3\"/><circle cx=\"171.875\" cy=\"161.83474558758257\" fill=\"black\" r=\"3\"/><circle cx=\"125.0\" cy=\"180.0\" fill=\"black\" r=\"3\"/><circle cx=\"218.75\" cy=\"174.92177320104284\" fill=\"black\" r=\"3\"/><circle cx=\"187.5\" cy=\"180.0\" fill=\"black\" r=\"3\"/><circle cx=\"250.0\" cy=\"180.0\" fill=\"black\" r=\"3\"/><circle cx=\"343.75\" cy=\"113.48530901563669\" fill=\"black\" r=\"3\"/><circle cx=\"312.5\" cy=\"180.0\" fill=\"black\" r=\"3\"/><circle cx=\"375.0\" cy=\"180.0\" fill=\"black\" r=\"3\"/><g alignment-baseline=\"middle\" font-size=\"14\" font-style=\"italic\" text-anchor=\"start\"/><g alignment-baseline=\"middle\" font-size=\"14\" font-style=\"italic\" text-anchor=\"end\"/></svg>"
      ],
      "text/plain": [
       "<IPython.core.display.SVG object>"
      ]
     },
     "metadata": {},
     "output_type": "display_data"
    },
    {
     "data": {
      "image/svg+xml": [
       "<svg baseProfile=\"full\" height=\"200\" version=\"1.1\" width=\"500\" xmlns=\"http://www.w3.org/2000/svg\" xmlns:ev=\"http://www.w3.org/2001/xml-events\" xmlns:xlink=\"http://www.w3.org/1999/xlink\"><defs/><g id=\"lines\" stroke=\"black\"><line x1=\"179.6875\" x2=\"179.6875\" y1=\"63.38091431427419\" y2=\"20.0\"/><line x1=\"179.6875\" x2=\"261.71875\" y1=\"20.0\" y2=\"20.0\"/><line x1=\"109.375\" x2=\"109.375\" y1=\"161.83474558758257\" y2=\"63.38091431427419\"/><line x1=\"109.375\" x2=\"179.6875\" y1=\"63.38091431427419\" y2=\"63.38091431427419\"/><line x1=\"62.5\" x2=\"62.5\" y1=\"180.0\" y2=\"161.83474558758257\"/><line x1=\"62.5\" x2=\"109.375\" y1=\"161.83474558758257\" y2=\"161.83474558758257\"/><line x1=\"156.25\" x2=\"156.25\" y1=\"174.92177320104284\" y2=\"161.83474558758257\"/><line x1=\"156.25\" x2=\"109.375\" y1=\"161.83474558758257\" y2=\"161.83474558758257\"/><line x1=\"125.0\" x2=\"125.0\" y1=\"180.0\" y2=\"174.92177320104284\"/><line x1=\"125.0\" x2=\"156.25\" y1=\"174.92177320104284\" y2=\"174.92177320104284\"/><line x1=\"187.5\" x2=\"187.5\" y1=\"180.0\" y2=\"174.92177320104284\"/><line x1=\"187.5\" x2=\"156.25\" y1=\"174.92177320104284\" y2=\"174.92177320104284\"/><line x1=\"250.0\" x2=\"250.0\" y1=\"180.0\" y2=\"63.38091431427419\"/><line x1=\"250.0\" x2=\"179.6875\" y1=\"63.38091431427419\" y2=\"63.38091431427419\"/><line x1=\"343.75\" x2=\"343.75\" y1=\"125.8914207516458\" y2=\"20.0\"/><line x1=\"343.75\" x2=\"261.71875\" y1=\"20.0\" y2=\"20.0\"/><line x1=\"312.5\" x2=\"312.5\" y1=\"180.0\" y2=\"125.8914207516458\"/><line x1=\"312.5\" x2=\"343.75\" y1=\"125.8914207516458\" y2=\"125.8914207516458\"/><line x1=\"375.0\" x2=\"375.0\" y1=\"180.0\" y2=\"125.8914207516458\"/><line x1=\"375.0\" x2=\"343.75\" y1=\"125.8914207516458\" y2=\"125.8914207516458\"/></g><g font-size=\"14\" text-anchor=\"start\"/><g font-size=\"14\" text-anchor=\"end\"/><g font-size=\"14\" text-anchor=\"middle\"><text x=\"62.5\" y=\"200.0\">ASN2</text><text x=\"125.0\" y=\"200.0\">EUR1</text><text x=\"187.5\" y=\"200.0\">EUR2</text><text x=\"250.0\" y=\"200.0\">AFR1</text><text x=\"312.5\" y=\"200.0\">AFR2</text><text x=\"375.0\" y=\"200.0\">ASN1</text></g><circle cx=\"261.71875\" cy=\"20.0\" fill=\"black\" r=\"3\"/><circle cx=\"179.6875\" cy=\"63.38091431427419\" fill=\"black\" r=\"3\"/><circle cx=\"109.375\" cy=\"161.83474558758257\" fill=\"black\" r=\"3\"/><circle cx=\"62.5\" cy=\"180.0\" fill=\"black\" r=\"3\"/><circle cx=\"156.25\" cy=\"174.92177320104284\" fill=\"black\" r=\"3\"/><circle cx=\"125.0\" cy=\"180.0\" fill=\"black\" r=\"3\"/><circle cx=\"187.5\" cy=\"180.0\" fill=\"black\" r=\"3\"/><circle cx=\"250.0\" cy=\"180.0\" fill=\"black\" r=\"3\"/><circle cx=\"343.75\" cy=\"125.8914207516458\" fill=\"black\" r=\"3\"/><circle cx=\"312.5\" cy=\"180.0\" fill=\"black\" r=\"3\"/><circle cx=\"375.0\" cy=\"180.0\" fill=\"black\" r=\"3\"/><g alignment-baseline=\"middle\" font-size=\"14\" font-style=\"italic\" text-anchor=\"start\"/><g alignment-baseline=\"middle\" font-size=\"14\" font-style=\"italic\" text-anchor=\"end\"/></svg>"
      ],
      "text/plain": [
       "<IPython.core.display.SVG object>"
      ]
     },
     "metadata": {},
     "output_type": "display_data"
    },
    {
     "data": {
      "image/svg+xml": [
       "<svg baseProfile=\"full\" height=\"200\" version=\"1.1\" width=\"500\" xmlns=\"http://www.w3.org/2000/svg\" xmlns:ev=\"http://www.w3.org/2001/xml-events\" xmlns:xlink=\"http://www.w3.org/1999/xlink\"><defs/><g id=\"lines\" stroke=\"black\"><line x1=\"117.1875\" x2=\"117.1875\" y1=\"63.38091431427419\" y2=\"20.0\"/><line x1=\"117.1875\" x2=\"230.46875\" y1=\"20.0\" y2=\"20.0\"/><line x1=\"62.5\" x2=\"62.5\" y1=\"180.0\" y2=\"63.38091431427419\"/><line x1=\"62.5\" x2=\"117.1875\" y1=\"63.38091431427419\" y2=\"63.38091431427419\"/><line x1=\"171.875\" x2=\"171.875\" y1=\"155.5848670116865\" y2=\"63.38091431427419\"/><line x1=\"171.875\" x2=\"117.1875\" y1=\"63.38091431427419\" y2=\"63.38091431427419\"/><line x1=\"125.0\" x2=\"125.0\" y1=\"180.0\" y2=\"155.5848670116865\"/><line x1=\"125.0\" x2=\"171.875\" y1=\"155.5848670116865\" y2=\"155.5848670116865\"/><line x1=\"218.75\" x2=\"218.75\" y1=\"174.92177320104284\" y2=\"155.5848670116865\"/><line x1=\"218.75\" x2=\"171.875\" y1=\"155.5848670116865\" y2=\"155.5848670116865\"/><line x1=\"187.5\" x2=\"187.5\" y1=\"180.0\" y2=\"174.92177320104284\"/><line x1=\"187.5\" x2=\"218.75\" y1=\"174.92177320104284\" y2=\"174.92177320104284\"/><line x1=\"250.0\" x2=\"250.0\" y1=\"180.0\" y2=\"174.92177320104284\"/><line x1=\"250.0\" x2=\"218.75\" y1=\"174.92177320104284\" y2=\"174.92177320104284\"/><line x1=\"343.75\" x2=\"343.75\" y1=\"125.8914207516458\" y2=\"20.0\"/><line x1=\"343.75\" x2=\"230.46875\" y1=\"20.0\" y2=\"20.0\"/><line x1=\"312.5\" x2=\"312.5\" y1=\"180.0\" y2=\"125.8914207516458\"/><line x1=\"312.5\" x2=\"343.75\" y1=\"125.8914207516458\" y2=\"125.8914207516458\"/><line x1=\"375.0\" x2=\"375.0\" y1=\"180.0\" y2=\"125.8914207516458\"/><line x1=\"375.0\" x2=\"343.75\" y1=\"125.8914207516458\" y2=\"125.8914207516458\"/></g><g font-size=\"14\" text-anchor=\"start\"/><g font-size=\"14\" text-anchor=\"end\"/><g font-size=\"14\" text-anchor=\"middle\"><text x=\"62.5\" y=\"200.0\">AFR1</text><text x=\"125.0\" y=\"200.0\">ASN2</text><text x=\"187.5\" y=\"200.0\">EUR1</text><text x=\"250.0\" y=\"200.0\">EUR2</text><text x=\"312.5\" y=\"200.0\">AFR2</text><text x=\"375.0\" y=\"200.0\">ASN1</text></g><circle cx=\"230.46875\" cy=\"20.0\" fill=\"black\" r=\"3\"/><circle cx=\"117.1875\" cy=\"63.38091431427419\" fill=\"black\" r=\"3\"/><circle cx=\"62.5\" cy=\"180.0\" fill=\"black\" r=\"3\"/><circle cx=\"171.875\" cy=\"155.5848670116865\" fill=\"black\" r=\"3\"/><circle cx=\"125.0\" cy=\"180.0\" fill=\"black\" r=\"3\"/><circle cx=\"218.75\" cy=\"174.92177320104284\" fill=\"black\" r=\"3\"/><circle cx=\"187.5\" cy=\"180.0\" fill=\"black\" r=\"3\"/><circle cx=\"250.0\" cy=\"180.0\" fill=\"black\" r=\"3\"/><circle cx=\"343.75\" cy=\"125.8914207516458\" fill=\"black\" r=\"3\"/><circle cx=\"312.5\" cy=\"180.0\" fill=\"black\" r=\"3\"/><circle cx=\"375.0\" cy=\"180.0\" fill=\"black\" r=\"3\"/><g alignment-baseline=\"middle\" font-size=\"14\" font-style=\"italic\" text-anchor=\"start\"/><g alignment-baseline=\"middle\" font-size=\"14\" font-style=\"italic\" text-anchor=\"end\"/></svg>"
      ],
      "text/plain": [
       "<IPython.core.display.SVG object>"
      ]
     },
     "metadata": {},
     "output_type": "display_data"
    }
   ],
   "source": [
    "for tree in OOA_tree_seq.trees():\n",
    "    display(SVG(tree.draw(mutation_labels={},\n",
    "        node_labels={0:\"AFR1\",1:\"AFR2\", 2:\"EUR1\",3:\"EUR2\",4:\"ASN1\",5:\"ASN2\"},\n",
    "        width=500)))"
   ]
  },
  {
   "cell_type": "markdown",
   "metadata": {
    "colab_type": "text",
    "id": "95z7C7h1odgn"
   },
   "source": [
    "### Saving files\n",
    "Let's throw some mutations onto this genealogy, then save the resulting tree sequence file. We can also save the variation data into a VCF file, which we will use when demonstrating `tsinfer` in section 4. "
   ]
  },
  {
   "cell_type": "code",
   "execution_count": 51,
   "metadata": {
    "colab": {},
    "colab_type": "code",
    "id": "3zNTYcCgodC7"
   },
   "outputs": [],
   "source": [
    "# Add mutations to an existing tree sequence\n",
    "OOA_with_mutations = msprime.mutate(OOA_tree_seq, rate=1e-6, random_seed=1, keep=True)\n",
    "\n",
    "# Save the tree sequence file (recommended suffix is .trees)\n",
    "OOA_with_mutations.dump(\"data/OOA.trees\")\n",
    "\n",
    "# Save as vcf\n",
    "with open(\"data/3pop_simulation.vcf\", \"w\") as vcf_file:\n",
    "    OOA_with_mutations.write_vcf(vcf_file, ploidy=2)"
   ]
  },
  {
   "cell_type": "markdown",
   "metadata": {},
   "source": [
    "## Forward Simulations with `SLiM`\n",
    "Although msprime is very effective for producing simulations under the coalescent, there are many evolutionary processes that are hard to simulate using coalescent methodology (e.g. models with natural selection, complex demography, or complex life histories). Recently a fast forwards simulator called [SLiM](https://messerlab.org/slim/) (Selection on Linked Mutations) has been developed that can save tree sequences as output.\n",
    "\n",
    "\n",
    "---\n",
    "\n",
    "SLiM is fast yet extremely flexible. Simulations are specified using a simple R-like language called `Eidos`: there is a GUI (Mac OS X only) which can help considerably in debugging and visualising simulations. However, for portability, here we simply save the Eidos commands into a temporary file and give that file to the `slim` executable in Python. Using python to do this allows us to manipulate the tree sequence output after the simulation is done. \n",
    "\n",
    "<aside>By default, SLiM does not save tree sequences: this functionality is activated by calling `initializeTreeSeq();` when initializing the simulation</aside>"
   ]
  },
  {
   "cell_type": "markdown",
   "metadata": {},
   "source": [
    "### A simple model\n",
    "\n",
    "The Eidos script embedded into Python below is taken from recipe 16.3 of the  [extensive SLiM manual](http://benhaller.com/slim/SLiM_Manual.pdf), with a few additional comments (`//double slashes distinguish comments in Eidos`). We will not go into many details of the Eidos language: it is well covered in the manual. Nevertheless, for anyone familiar with genetic simulations in R or Python, it should be reasonably obvious what is going on in the eidos_script defined below. By default, SLiM runs a standard Wright-Fisher with panmixis and discrete generations. Top-level blocks delimited by `{}` are each run at a different generation (or range of generations). As in C, code needs to be semicolon-terminated.\n",
    "\n",
    "The script simulates genomes with a background level of mildly deleterious mutations, and introduces a single advantageous mutation after a certain number of burn in generations, tracking it until it is lost (in which case we restart the simulation from when it was introduced) or is fixed (in which case we save the output to a tree sequence). Although it is fast as forward simulations go, it is still much slower than coalescent simulators, especially for large population sizes (e.g. here we only simulate a population of 500 diploids)."
   ]
  },
  {
   "cell_type": "code",
   "execution_count": 53,
   "metadata": {},
   "outputs": [
    {
     "name": "stdout",
     "output_type": "stream",
     "text": [
      "Output from SLiM follows:\n",
      "SLiM> // Initial random seed:\n",
      "SLiM> 123\n",
      "SLiM> \n",
      "SLiM> // RunInitializeCallbacks():\n",
      "SLiM> initializeTreeSeq();\n",
      "SLiM> initializeMutationRate(1e-08);\n",
      "SLiM> initializeMutationType(2, 0.5, \"g\", -0.01, 1);\n",
      "SLiM> initializeMutationType(3, 1, \"f\", 0.05);\n",
      "SLiM> initializeGenomicElementType(1, m2, 1);\n",
      "SLiM> initializeGenomicElement(g1, 0, 99999);\n",
      "SLiM> initializeRecombinationRate(1e-07);\n",
      "SLiM> \n",
      "SLiM> // Starting run at generation <start>:\n",
      "SLiM> 1 \n",
      "SLiM> \n",
      "SLiM> 123: lost - restarting\n",
      "SLiM> 123: lost - restarting\n",
      "SLiM> 123: lost - restarting\n",
      "SLiM> 123: lost - restarting\n",
      "SLiM> 123: lost - restarting\n",
      "SLiM> 123: lost - restarting\n",
      "SLiM> 123: lost - restarting\n",
      "SLiM> 123: lost - restarting\n",
      "SLiM> 123: lost - restarting\n",
      "SLiM> 123: lost - restarting\n",
      "SLiM> 123: lost - restarting\n",
      "SLiM> 123: lost - restarting\n",
      "SLiM> 123: lost - restarting\n",
      "SLiM> 123: lost - restarting\n",
      "SLiM> 123: lost - restarting\n",
      "SLiM> 123: lost - restarting\n",
      "SLiM> 123: lost - restarting\n",
      "SLiM> 123: lost - restarting\n",
      "SLiM> 123: lost - restarting\n",
      "SLiM> 123: lost - restarting\n",
      "SLiM> 123: lost - restarting\n",
      "SLiM> 123: lost - restarting\n",
      "SLiM> 123: lost - restarting\n",
      "SLiM> 123: fixed and saved to 'data/slim_fixed.trees'\n"
     ]
    }
   ],
   "source": [
    "import subprocess\n",
    "import string\n",
    "import tempfile\n",
    "\n",
    "# NB: use string.Template to pass parameters from Python into the Eidos script\n",
    "# These python-substituted parameters are written in CAPS\n",
    "eidos_script = string.Template(r\"\"\"\n",
    "initialize() {\n",
    "    initializeTreeSeq();\n",
    "    initializeMutationRate($MU_DEL);\n",
    "    initializeMutationType(\"m2\", $H_DEL, \"g\", $S_DEL, 1.0);  // deleterious\n",
    "    initializeMutationType(\"m3\", $H_ADV, \"f\", $S_ADV);       // advantageous\n",
    "    // only deleterious mutations (type m2) should be introduced automatically\n",
    "    initializeGenomicElementType(\"g1\", m2, 1.0);\n",
    "    initializeGenomicElement(g1, 0, $LENGTH);\n",
    "    initializeRecombinationRate($RHO);\n",
    "}\n",
    "\n",
    "1 { // in the first generation, add a standard population of $POPSIZE diploids\n",
    "    defineConstant(\"simID\", getSeed());\n",
    "    sim.addSubpop(\"p1\", $POPSIZE);\n",
    "}\n",
    "\n",
    "$BURN_IN_GENS late() { // after $BURN_IN_GENS introduce an advantageous mutation\n",
    "    target = sample(p1.genomes, 1);\n",
    "    target.addNewDrawnMutation(m3, $SELECTED_VARIANT_POS);\n",
    "    sim.treeSeqOutput(\"data/slim_init.trees\"); // save in case restart needed\n",
    "}\n",
    "\n",
    "$BURN_IN_GENS:$MAX_GENS late() { // check every subsequent generation for fixation or loss\n",
    "    if (sim.countOfMutationsOfType(m3) == 0) {\n",
    "        if (sum(sim.substitutions.mutationType == m3) == 1) {\n",
    "            fn = \"data/slim_fixed.trees\";\n",
    "            sim.treeSeqOutput(fn);\n",
    "            catn(simID + \": fixed and saved to '\" + fn + \"'\");\n",
    "            sim.simulationFinished();\n",
    "        } else {\n",
    "            catn(simID + \": lost - restarting\");\n",
    "            sim.readFromPopulationFile(\"data/slim_init.trees\");\n",
    "            setSeed(getSeed() + 1); // try again with a different seed\n",
    "        }\n",
    "    }\n",
    "}\"\"\")\n",
    "random_seed = 123\n",
    "sim_script = eidos_script.substitute(\n",
    "    H_DEL = 0.5,   # deleterious dominance coeffficient,\n",
    "    H_ADV = 1.0,   # advantageous dominance_coef\n",
    "    S_DEL = -0.01, # deleterious selection_coefficient,\n",
    "    S_ADV = 0.05,  # advantageous selection_coefficient,\n",
    "    MU_DEL = 1e-8, # per base per generation mutation rate for deleterious muts\n",
    "    RHO= 1e-7,     # recombination rate,\n",
    "    POPSIZE = 500,\n",
    "    LENGTH = 99999, # chromosome length\n",
    "    SELECTED_VARIANT_POS = 50000, # chromosome length\n",
    "    BURN_IN_GENS = 1000,\n",
    "    MAX_GENS = 100000\n",
    "    )\n",
    "with tempfile.NamedTemporaryFile(mode='w+t') as script:\n",
    "    script.write(sim_script)\n",
    "    script.flush()\n",
    "    process = subprocess.Popen(['slim','-seed',str(random_seed), script.name],\n",
    "        stdout=subprocess.PIPE, stderr=subprocess.STDOUT, \n",
    "        universal_newlines=True)\n",
    "    print(\"Output from SLiM follows:\")\n",
    "    for line in iter(process.stdout.readline, ''):\n",
    "        print(\"SLiM> \" + line, end=\"\")"
   ]
  },
  {
   "cell_type": "markdown",
   "metadata": {},
   "source": [
    "### Adding neutral mutations\n",
    "The SLiM simulation should have resulted in population with a fixed advantageous mutation, and generated a tree sequence file for further use. The main reason that the simulation is relatively fast is that we have not had to track neutral mutations during the run. Since (by definition), neutral mutations do not affect the simulation, we can add any number of them after the simulation has finished, as we did with the out of Africa simulation in msprime, then dump the tree sequence out to a `.trees` file:"
   ]
  },
  {
   "cell_type": "code",
   "execution_count": 52,
   "metadata": {},
   "outputs": [
    {
     "ename": "FileFormatError",
     "evalue": "No such file or directory",
     "output_type": "error",
     "traceback": [
      "\u001b[0;31m---------------------------------------------------------------------------\u001b[0m",
      "\u001b[0;31mFileFormatError\u001b[0m                           Traceback (most recent call last)",
      "\u001b[0;32m/usr/local/lib/python3.7/site-packages/msprime/trees.py\u001b[0m in \u001b[0;36mload\u001b[0;34m(path)\u001b[0m\n\u001b[1;32m   1194\u001b[0m     \u001b[0;32mtry\u001b[0m\u001b[0;34m:\u001b[0m\u001b[0;34m\u001b[0m\u001b[0;34m\u001b[0m\u001b[0m\n\u001b[0;32m-> 1195\u001b[0;31m         \u001b[0;32mreturn\u001b[0m \u001b[0mTreeSequence\u001b[0m\u001b[0;34m.\u001b[0m\u001b[0mload\u001b[0m\u001b[0;34m(\u001b[0m\u001b[0mpath\u001b[0m\u001b[0;34m)\u001b[0m\u001b[0;34m\u001b[0m\u001b[0;34m\u001b[0m\u001b[0m\n\u001b[0m\u001b[1;32m   1196\u001b[0m     \u001b[0;32mexcept\u001b[0m \u001b[0m_msprime\u001b[0m\u001b[0;34m.\u001b[0m\u001b[0mVersionTooNewError\u001b[0m \u001b[0;32mas\u001b[0m \u001b[0me\u001b[0m\u001b[0;34m:\u001b[0m\u001b[0;34m\u001b[0m\u001b[0;34m\u001b[0m\u001b[0m\n",
      "\u001b[0;32m/usr/local/lib/python3.7/site-packages/msprime/trees.py\u001b[0m in \u001b[0;36mload\u001b[0;34m(cls, path)\u001b[0m\n\u001b[1;32m   1740\u001b[0m         \u001b[0mts\u001b[0m \u001b[0;34m=\u001b[0m \u001b[0m_msprime\u001b[0m\u001b[0;34m.\u001b[0m\u001b[0mTreeSequence\u001b[0m\u001b[0;34m(\u001b[0m\u001b[0;34m)\u001b[0m\u001b[0;34m\u001b[0m\u001b[0;34m\u001b[0m\u001b[0m\n\u001b[0;32m-> 1741\u001b[0;31m         \u001b[0mts\u001b[0m\u001b[0;34m.\u001b[0m\u001b[0mload\u001b[0m\u001b[0;34m(\u001b[0m\u001b[0mpath\u001b[0m\u001b[0;34m)\u001b[0m\u001b[0;34m\u001b[0m\u001b[0;34m\u001b[0m\u001b[0m\n\u001b[0m\u001b[1;32m   1742\u001b[0m         \u001b[0;32mreturn\u001b[0m \u001b[0mTreeSequence\u001b[0m\u001b[0;34m(\u001b[0m\u001b[0mts\u001b[0m\u001b[0;34m)\u001b[0m\u001b[0;34m\u001b[0m\u001b[0;34m\u001b[0m\u001b[0m\n",
      "\u001b[0;31mFileFormatError\u001b[0m: No such file or directory",
      "\nDuring handling of the above exception, another exception occurred:\n",
      "\u001b[0;31mOSError\u001b[0m                                   Traceback (most recent call last)",
      "\u001b[0;32m/usr/local/lib/python3.7/site-packages/msprime/formats.py\u001b[0m in \u001b[0;36mraise_hdf5_format_error\u001b[0;34m(filename, original_exception)\u001b[0m\n\u001b[1;32m    250\u001b[0m     \u001b[0;32mtry\u001b[0m\u001b[0;34m:\u001b[0m\u001b[0;34m\u001b[0m\u001b[0;34m\u001b[0m\u001b[0m\n\u001b[0;32m--> 251\u001b[0;31m         \u001b[0;32mwith\u001b[0m \u001b[0mh5py\u001b[0m\u001b[0;34m.\u001b[0m\u001b[0mFile\u001b[0m\u001b[0;34m(\u001b[0m\u001b[0mfilename\u001b[0m\u001b[0;34m,\u001b[0m \u001b[0;34m\"r\"\u001b[0m\u001b[0;34m)\u001b[0m \u001b[0;32mas\u001b[0m \u001b[0mroot\u001b[0m\u001b[0;34m:\u001b[0m\u001b[0;34m\u001b[0m\u001b[0;34m\u001b[0m\u001b[0m\n\u001b[0m\u001b[1;32m    252\u001b[0m             \u001b[0mversion\u001b[0m \u001b[0;34m=\u001b[0m \u001b[0mtuple\u001b[0m\u001b[0;34m(\u001b[0m\u001b[0mroot\u001b[0m\u001b[0;34m.\u001b[0m\u001b[0mattrs\u001b[0m\u001b[0;34m[\u001b[0m\u001b[0;34m\"format_version\"\u001b[0m\u001b[0;34m]\u001b[0m\u001b[0;34m)\u001b[0m\u001b[0;34m\u001b[0m\u001b[0;34m\u001b[0m\u001b[0m\n",
      "\u001b[0;32m/usr/local/lib/python3.7/site-packages/h5py/_hl/files.py\u001b[0m in \u001b[0;36m__init__\u001b[0;34m(self, name, mode, driver, libver, userblock_size, swmr, **kwds)\u001b[0m\n\u001b[1;32m    311\u001b[0m                 \u001b[0mfapl\u001b[0m \u001b[0;34m=\u001b[0m \u001b[0mmake_fapl\u001b[0m\u001b[0;34m(\u001b[0m\u001b[0mdriver\u001b[0m\u001b[0;34m,\u001b[0m \u001b[0mlibver\u001b[0m\u001b[0;34m,\u001b[0m \u001b[0;34m**\u001b[0m\u001b[0mkwds\u001b[0m\u001b[0;34m)\u001b[0m\u001b[0;34m\u001b[0m\u001b[0;34m\u001b[0m\u001b[0m\n\u001b[0;32m--> 312\u001b[0;31m                 \u001b[0mfid\u001b[0m \u001b[0;34m=\u001b[0m \u001b[0mmake_fid\u001b[0m\u001b[0;34m(\u001b[0m\u001b[0mname\u001b[0m\u001b[0;34m,\u001b[0m \u001b[0mmode\u001b[0m\u001b[0;34m,\u001b[0m \u001b[0muserblock_size\u001b[0m\u001b[0;34m,\u001b[0m \u001b[0mfapl\u001b[0m\u001b[0;34m,\u001b[0m \u001b[0mswmr\u001b[0m\u001b[0;34m=\u001b[0m\u001b[0mswmr\u001b[0m\u001b[0;34m)\u001b[0m\u001b[0;34m\u001b[0m\u001b[0;34m\u001b[0m\u001b[0m\n\u001b[0m\u001b[1;32m    313\u001b[0m \u001b[0;34m\u001b[0m\u001b[0m\n",
      "\u001b[0;32m/usr/local/lib/python3.7/site-packages/h5py/_hl/files.py\u001b[0m in \u001b[0;36mmake_fid\u001b[0;34m(name, mode, userblock_size, fapl, fcpl, swmr)\u001b[0m\n\u001b[1;32m    141\u001b[0m             \u001b[0mflags\u001b[0m \u001b[0;34m|=\u001b[0m \u001b[0mh5f\u001b[0m\u001b[0;34m.\u001b[0m\u001b[0mACC_SWMR_READ\u001b[0m\u001b[0;34m\u001b[0m\u001b[0;34m\u001b[0m\u001b[0m\n\u001b[0;32m--> 142\u001b[0;31m         \u001b[0mfid\u001b[0m \u001b[0;34m=\u001b[0m \u001b[0mh5f\u001b[0m\u001b[0;34m.\u001b[0m\u001b[0mopen\u001b[0m\u001b[0;34m(\u001b[0m\u001b[0mname\u001b[0m\u001b[0;34m,\u001b[0m \u001b[0mflags\u001b[0m\u001b[0;34m,\u001b[0m \u001b[0mfapl\u001b[0m\u001b[0;34m=\u001b[0m\u001b[0mfapl\u001b[0m\u001b[0;34m)\u001b[0m\u001b[0;34m\u001b[0m\u001b[0;34m\u001b[0m\u001b[0m\n\u001b[0m\u001b[1;32m    143\u001b[0m     \u001b[0;32melif\u001b[0m \u001b[0mmode\u001b[0m \u001b[0;34m==\u001b[0m \u001b[0;34m'r+'\u001b[0m\u001b[0;34m:\u001b[0m\u001b[0;34m\u001b[0m\u001b[0;34m\u001b[0m\u001b[0m\n",
      "\u001b[0;32mh5py/_objects.pyx\u001b[0m in \u001b[0;36mh5py._objects.with_phil.wrapper\u001b[0;34m()\u001b[0m\n",
      "\u001b[0;32mh5py/_objects.pyx\u001b[0m in \u001b[0;36mh5py._objects.with_phil.wrapper\u001b[0;34m()\u001b[0m\n",
      "\u001b[0;32mh5py/h5f.pyx\u001b[0m in \u001b[0;36mh5py.h5f.open\u001b[0;34m()\u001b[0m\n",
      "\u001b[0;31mOSError\u001b[0m: Unable to open file (unable to open file: name = 'data/slim_fixed.trees', errno = 2, error message = 'No such file or directory', flags = 0, o_flags = 0)",
      "\nDuring handling of the above exception, another exception occurred:\n",
      "\u001b[0;31mFileFormatError\u001b[0m                           Traceback (most recent call last)",
      "\u001b[0;32m<ipython-input-52-000716cbd1e5>\u001b[0m in \u001b[0;36m<module>\u001b[0;34m\u001b[0m\n\u001b[1;32m      2\u001b[0m \u001b[0;34m\u001b[0m\u001b[0m\n\u001b[1;32m      3\u001b[0m \u001b[0;31m# NB for efficiency, we could .simplify() this tree seq, as in the SLiM manual\u001b[0m\u001b[0;34m\u001b[0m\u001b[0;34m\u001b[0m\u001b[0;34m\u001b[0m\u001b[0m\n\u001b[0;32m----> 4\u001b[0;31m \u001b[0mts_fwd\u001b[0m \u001b[0;34m=\u001b[0m \u001b[0mpyslim\u001b[0m\u001b[0;34m.\u001b[0m\u001b[0mload\u001b[0m\u001b[0;34m(\u001b[0m\u001b[0;34m\"data/slim_fixed.trees\"\u001b[0m\u001b[0;34m)\u001b[0m\u001b[0;34m\u001b[0m\u001b[0;34m\u001b[0m\u001b[0m\n\u001b[0m\u001b[1;32m      5\u001b[0m \u001b[0mprint\u001b[0m\u001b[0;34m(\u001b[0m\u001b[0;34m\"Number of (selected) mutations at end of forward simulation:\"\u001b[0m\u001b[0;34m,\u001b[0m \u001b[0mts_fwd\u001b[0m\u001b[0;34m.\u001b[0m\u001b[0mnum_mutations\u001b[0m\u001b[0;34m)\u001b[0m\u001b[0;34m\u001b[0m\u001b[0;34m\u001b[0m\u001b[0m\n\u001b[1;32m      6\u001b[0m \u001b[0mts_fwd_mut\u001b[0m \u001b[0;34m=\u001b[0m \u001b[0mmsprime\u001b[0m\u001b[0;34m.\u001b[0m\u001b[0mmutate\u001b[0m\u001b[0;34m(\u001b[0m\u001b[0mts_fwd\u001b[0m\u001b[0;34m,\u001b[0m \u001b[0mrate\u001b[0m\u001b[0;34m=\u001b[0m\u001b[0;36m1e-7\u001b[0m\u001b[0;34m,\u001b[0m \u001b[0mrandom_seed\u001b[0m\u001b[0;34m=\u001b[0m\u001b[0;36m1\u001b[0m\u001b[0;34m,\u001b[0m \u001b[0mkeep\u001b[0m\u001b[0;34m=\u001b[0m\u001b[0;32mTrue\u001b[0m\u001b[0;34m)\u001b[0m\u001b[0;34m\u001b[0m\u001b[0;34m\u001b[0m\u001b[0m\n",
      "\u001b[0;32m/usr/local/lib/python3.7/site-packages/pyslim/slim_tree_sequence.py\u001b[0m in \u001b[0;36mload\u001b[0;34m(path)\u001b[0m\n\u001b[1;32m     19\u001b[0m     \u001b[0;34m:\u001b[0m\u001b[0mparam\u001b[0m \u001b[0mstring\u001b[0m \u001b[0mpath\u001b[0m\u001b[0;34m:\u001b[0m \u001b[0mThe\u001b[0m \u001b[0mpath\u001b[0m \u001b[0mto\u001b[0m \u001b[0ma\u001b[0m \u001b[0;34m.\u001b[0m\u001b[0mtrees\u001b[0m \u001b[0mfile\u001b[0m\u001b[0;34m.\u001b[0m\u001b[0;34m\u001b[0m\u001b[0;34m\u001b[0m\u001b[0m\n\u001b[1;32m     20\u001b[0m     '''\n\u001b[0;32m---> 21\u001b[0;31m     \u001b[0mts\u001b[0m \u001b[0;34m=\u001b[0m \u001b[0mSlimTreeSequence\u001b[0m\u001b[0;34m.\u001b[0m\u001b[0mload\u001b[0m\u001b[0;34m(\u001b[0m\u001b[0mpath\u001b[0m\u001b[0;34m)\u001b[0m\u001b[0;34m\u001b[0m\u001b[0;34m\u001b[0m\u001b[0m\n\u001b[0m\u001b[1;32m     22\u001b[0m     \u001b[0;32mreturn\u001b[0m \u001b[0mts\u001b[0m\u001b[0;34m\u001b[0m\u001b[0;34m\u001b[0m\u001b[0m\n\u001b[1;32m     23\u001b[0m \u001b[0;34m\u001b[0m\u001b[0m\n",
      "\u001b[0;32m/usr/local/lib/python3.7/site-packages/pyslim/slim_tree_sequence.py\u001b[0m in \u001b[0;36mload\u001b[0;34m(cls, path)\u001b[0m\n\u001b[1;32m    124\u001b[0m         '''\n\u001b[1;32m    125\u001b[0m         \u001b[0;31m# roundabout way to load just the tables\u001b[0m\u001b[0;34m\u001b[0m\u001b[0;34m\u001b[0m\u001b[0;34m\u001b[0m\u001b[0m\n\u001b[0;32m--> 126\u001b[0;31m         \u001b[0mts\u001b[0m \u001b[0;34m=\u001b[0m \u001b[0mmsprime\u001b[0m\u001b[0;34m.\u001b[0m\u001b[0mload\u001b[0m\u001b[0;34m(\u001b[0m\u001b[0mpath\u001b[0m\u001b[0;34m)\u001b[0m\u001b[0;34m\u001b[0m\u001b[0;34m\u001b[0m\u001b[0m\n\u001b[0m\u001b[1;32m    127\u001b[0m         \u001b[0;32mreturn\u001b[0m \u001b[0mcls\u001b[0m\u001b[0;34m(\u001b[0m\u001b[0mts\u001b[0m\u001b[0;34m)\u001b[0m\u001b[0;34m\u001b[0m\u001b[0;34m\u001b[0m\u001b[0m\n\u001b[1;32m    128\u001b[0m \u001b[0;34m\u001b[0m\u001b[0m\n",
      "\u001b[0;32m/usr/local/lib/python3.7/site-packages/msprime/trees.py\u001b[0m in \u001b[0;36mload\u001b[0;34m(path)\u001b[0m\n\u001b[1;32m   1199\u001b[0m         \u001b[0;32mraise\u001b[0m \u001b[0mexceptions\u001b[0m\u001b[0;34m.\u001b[0m\u001b[0mVersionTooOldError\u001b[0m\u001b[0;34m(\u001b[0m\u001b[0mstr\u001b[0m\u001b[0;34m(\u001b[0m\u001b[0me\u001b[0m\u001b[0;34m)\u001b[0m\u001b[0;34m)\u001b[0m\u001b[0;34m\u001b[0m\u001b[0;34m\u001b[0m\u001b[0m\n\u001b[1;32m   1200\u001b[0m     \u001b[0;32mexcept\u001b[0m \u001b[0m_msprime\u001b[0m\u001b[0;34m.\u001b[0m\u001b[0mFileFormatError\u001b[0m \u001b[0;32mas\u001b[0m \u001b[0me\u001b[0m\u001b[0;34m:\u001b[0m\u001b[0;34m\u001b[0m\u001b[0;34m\u001b[0m\u001b[0m\n\u001b[0;32m-> 1201\u001b[0;31m         \u001b[0mformats\u001b[0m\u001b[0;34m.\u001b[0m\u001b[0mraise_hdf5_format_error\u001b[0m\u001b[0;34m(\u001b[0m\u001b[0mpath\u001b[0m\u001b[0;34m,\u001b[0m \u001b[0me\u001b[0m\u001b[0;34m)\u001b[0m\u001b[0;34m\u001b[0m\u001b[0;34m\u001b[0m\u001b[0m\n\u001b[0m\u001b[1;32m   1202\u001b[0m \u001b[0;34m\u001b[0m\u001b[0m\n\u001b[1;32m   1203\u001b[0m \u001b[0;34m\u001b[0m\u001b[0m\n",
      "\u001b[0;32m/usr/local/lib/python3.7/site-packages/msprime/formats.py\u001b[0m in \u001b[0;36mraise_hdf5_format_error\u001b[0;34m(filename, original_exception)\u001b[0m\n\u001b[1;32m    255\u001b[0m                 \"to upgrade this file to the latest version\".format(version))\n\u001b[1;32m    256\u001b[0m     \u001b[0;32mexcept\u001b[0m \u001b[0;34m(\u001b[0m\u001b[0mIOError\u001b[0m\u001b[0;34m,\u001b[0m \u001b[0mOSError\u001b[0m\u001b[0;34m,\u001b[0m \u001b[0mKeyError\u001b[0m\u001b[0;34m)\u001b[0m\u001b[0;34m:\u001b[0m\u001b[0;34m\u001b[0m\u001b[0;34m\u001b[0m\u001b[0m\n\u001b[0;32m--> 257\u001b[0;31m         \u001b[0;32mraise\u001b[0m \u001b[0mexceptions\u001b[0m\u001b[0;34m.\u001b[0m\u001b[0mFileFormatError\u001b[0m\u001b[0;34m(\u001b[0m\u001b[0mstr\u001b[0m\u001b[0;34m(\u001b[0m\u001b[0moriginal_exception\u001b[0m\u001b[0;34m)\u001b[0m\u001b[0;34m)\u001b[0m\u001b[0;34m\u001b[0m\u001b[0;34m\u001b[0m\u001b[0m\n\u001b[0m\u001b[1;32m    258\u001b[0m \u001b[0;34m\u001b[0m\u001b[0m\n\u001b[1;32m    259\u001b[0m \u001b[0;34m\u001b[0m\u001b[0m\n",
      "\u001b[0;31mFileFormatError\u001b[0m: No such file or directory"
     ]
    }
   ],
   "source": [
    "import pyslim # To load ts files from SLiM use pyslim, not `msprime` or `tskit`\n",
    "\n",
    "# NB for efficiency, we could .simplify() this tree seq, as in the SLiM manual\n",
    "ts_fwd = pyslim.load(\"data/slim_fixed.trees\")\n",
    "print(\"Number of (selected) mutations at end of forward simulation:\", ts_fwd.num_mutations)\n",
    "ts_fwd_mut = msprime.mutate(ts_fwd, rate=1e-7, random_seed=1, keep=True)\n",
    "print(\"Number of mutations after adding neutral variation:\", ts_fwd_mut.num_mutations)\n",
    "ts_fwd_mut.dump(\"data/slim_fixed_with_neutral.trees\")"
   ]
  },
  {
   "cell_type": "markdown",
   "metadata": {},
   "source": [
    "Note that an important property of forwards time trees is that not all lineages are guaranteed to have coalesced, so they may contain **multiple roots**. Thus more than one tree-like structure may exist for each \"tree\" in the tree sequence, as shown below:"
   ]
  },
  {
   "cell_type": "code",
   "execution_count": 46,
   "metadata": {},
   "outputs": [
    {
     "data": {
      "image/svg+xml": [
       "<svg baseProfile=\"full\" height=\"200\" version=\"1.1\" width=\"200\" xmlns=\"http://www.w3.org/2000/svg\" xmlns:ev=\"http://www.w3.org/2001/xml-events\" xmlns:xlink=\"http://www.w3.org/1999/xlink\"><defs/><g id=\"lines\" stroke=\"black\"><line x1=\"16.666666666666668\" x2=\"16.666666666666668\" y1=\"180.0\" y2=\"161.93548387096774\"/><line x1=\"16.666666666666668\" x2=\"25.0\" y1=\"161.93548387096774\" y2=\"161.93548387096774\"/><line x1=\"33.333333333333336\" x2=\"33.333333333333336\" y1=\"180.0\" y2=\"161.93548387096774\"/><line x1=\"33.333333333333336\" x2=\"25.0\" y1=\"161.93548387096774\" y2=\"161.93548387096774\"/><line x1=\"62.5\" x2=\"62.5\" y1=\"137.16129032258064\" y2=\"20.0\"/><line x1=\"62.5\" x2=\"94.79166666666667\" y1=\"20.0\" y2=\"20.0\"/><line x1=\"50.0\" x2=\"50.0\" y1=\"180.0\" y2=\"137.16129032258064\"/><line x1=\"50.0\" x2=\"62.5\" y1=\"137.16129032258064\" y2=\"137.16129032258064\"/><line x1=\"75.0\" x2=\"75.0\" y1=\"166.32258064516128\" y2=\"137.16129032258064\"/><line x1=\"75.0\" x2=\"62.5\" y1=\"137.16129032258064\" y2=\"137.16129032258064\"/><line x1=\"66.66666666666667\" x2=\"66.66666666666667\" y1=\"180.0\" y2=\"166.32258064516128\"/><line x1=\"66.66666666666667\" x2=\"75.0\" y1=\"166.32258064516128\" y2=\"166.32258064516128\"/><line x1=\"83.33333333333334\" x2=\"83.33333333333334\" y1=\"180.0\" y2=\"166.32258064516128\"/><line x1=\"83.33333333333334\" x2=\"75.0\" y1=\"166.32258064516128\" y2=\"166.32258064516128\"/><line x1=\"127.08333333333334\" x2=\"127.08333333333334\" y1=\"73.67741935483872\" y2=\"20.0\"/><line x1=\"127.08333333333334\" x2=\"94.79166666666667\" y1=\"20.0\" y2=\"20.0\"/><line x1=\"108.33333333333334\" x2=\"108.33333333333334\" y1=\"174.58064516129033\" y2=\"73.67741935483872\"/><line x1=\"108.33333333333334\" x2=\"127.08333333333334\" y1=\"73.67741935483872\" y2=\"73.67741935483872\"/><line x1=\"100.0\" x2=\"100.0\" y1=\"180.0\" y2=\"174.58064516129033\"/><line x1=\"100.0\" x2=\"108.33333333333334\" y1=\"174.58064516129033\" y2=\"174.58064516129033\"/><line x1=\"116.66666666666667\" x2=\"116.66666666666667\" y1=\"180.0\" y2=\"174.58064516129033\"/><line x1=\"116.66666666666667\" x2=\"108.33333333333334\" y1=\"174.58064516129033\" y2=\"174.58064516129033\"/><line x1=\"145.83333333333334\" x2=\"145.83333333333334\" y1=\"118.32258064516128\" y2=\"73.67741935483872\"/><line x1=\"145.83333333333334\" x2=\"127.08333333333334\" y1=\"73.67741935483872\" y2=\"73.67741935483872\"/><line x1=\"133.33333333333334\" x2=\"133.33333333333334\" y1=\"180.0\" y2=\"118.32258064516128\"/><line x1=\"133.33333333333334\" x2=\"145.83333333333334\" y1=\"118.32258064516128\" y2=\"118.32258064516128\"/><line x1=\"158.33333333333334\" x2=\"158.33333333333334\" y1=\"147.74193548387098\" y2=\"118.32258064516128\"/><line x1=\"158.33333333333334\" x2=\"145.83333333333334\" y1=\"118.32258064516128\" y2=\"118.32258064516128\"/><line x1=\"150.0\" x2=\"150.0\" y1=\"180.0\" y2=\"147.74193548387098\"/><line x1=\"150.0\" x2=\"158.33333333333334\" y1=\"147.74193548387098\" y2=\"147.74193548387098\"/><line x1=\"166.66666666666669\" x2=\"166.66666666666669\" y1=\"180.0\" y2=\"147.74193548387098\"/><line x1=\"166.66666666666669\" x2=\"158.33333333333334\" y1=\"147.74193548387098\" y2=\"147.74193548387098\"/></g><g font-size=\"14\" text-anchor=\"start\"><text x=\"80.0\" y=\"161.32258064516128\">12</text><text x=\"132.08333333333334\" y=\"68.67741935483872\">27</text><text x=\"150.83333333333334\" y=\"113.32258064516128\">22</text><text x=\"163.33333333333334\" y=\"142.74193548387098\">15</text></g><g font-size=\"14\" text-anchor=\"end\"><text x=\"57.5\" y=\"132.16129032258064\">18</text><text x=\"103.33333333333334\" y=\"169.58064516129033\">10</text></g><g font-size=\"14\" text-anchor=\"middle\"><text x=\"25.0\" y=\"156.93548387096774\">13</text><text x=\"16.666666666666668\" y=\"200.0\">4</text><text x=\"33.333333333333336\" y=\"200.0\">9</text><text x=\"94.79166666666667\" y=\"15.0\">29</text><text x=\"50.0\" y=\"200.0\">8</text><text x=\"66.66666666666667\" y=\"200.0\">2</text><text x=\"83.33333333333334\" y=\"200.0\">5</text><text x=\"100.0\" y=\"200.0\">1</text><text x=\"116.66666666666667\" y=\"200.0\">6</text><text x=\"133.33333333333334\" y=\"200.0\">0</text><text x=\"150.0\" y=\"200.0\">3</text><text x=\"166.66666666666669\" y=\"200.0\">7</text></g><circle cx=\"25.0\" cy=\"161.93548387096774\" fill=\"black\" r=\"3\"/><circle cx=\"16.666666666666668\" cy=\"180.0\" fill=\"black\" r=\"3\"/><circle cx=\"33.333333333333336\" cy=\"180.0\" fill=\"black\" r=\"3\"/><circle cx=\"94.79166666666667\" cy=\"20.0\" fill=\"black\" r=\"3\"/><circle cx=\"62.5\" cy=\"137.16129032258064\" fill=\"black\" r=\"3\"/><circle cx=\"50.0\" cy=\"180.0\" fill=\"black\" r=\"3\"/><circle cx=\"75.0\" cy=\"166.32258064516128\" fill=\"black\" r=\"3\"/><circle cx=\"66.66666666666667\" cy=\"180.0\" fill=\"black\" r=\"3\"/><circle cx=\"83.33333333333334\" cy=\"180.0\" fill=\"black\" r=\"3\"/><circle cx=\"127.08333333333334\" cy=\"73.67741935483872\" fill=\"black\" r=\"3\"/><circle cx=\"108.33333333333334\" cy=\"174.58064516129033\" fill=\"black\" r=\"3\"/><circle cx=\"100.0\" cy=\"180.0\" fill=\"black\" r=\"3\"/><circle cx=\"116.66666666666667\" cy=\"180.0\" fill=\"black\" r=\"3\"/><circle cx=\"145.83333333333334\" cy=\"118.32258064516128\" fill=\"black\" r=\"3\"/><circle cx=\"133.33333333333334\" cy=\"180.0\" fill=\"black\" r=\"3\"/><circle cx=\"158.33333333333334\" cy=\"147.74193548387098\" fill=\"black\" r=\"3\"/><circle cx=\"150.0\" cy=\"180.0\" fill=\"black\" r=\"3\"/><circle cx=\"166.66666666666669\" cy=\"180.0\" fill=\"black\" r=\"3\"/><g alignment-baseline=\"middle\" font-size=\"14\" font-style=\"italic\" text-anchor=\"start\"/><g alignment-baseline=\"middle\" font-size=\"14\" font-style=\"italic\" text-anchor=\"end\"/></svg>"
      ],
      "text/plain": [
       "<IPython.core.display.SVG object>"
      ]
     },
     "metadata": {},
     "output_type": "display_data"
    },
    {
     "data": {
      "image/svg+xml": [
       "<svg baseProfile=\"full\" height=\"200\" version=\"1.1\" width=\"200\" xmlns=\"http://www.w3.org/2000/svg\" xmlns:ev=\"http://www.w3.org/2001/xml-events\" xmlns:xlink=\"http://www.w3.org/1999/xlink\"><defs/><g id=\"lines\" stroke=\"black\"><line x1=\"25.0\" x2=\"25.0\" y1=\"169.54248366013073\" y2=\"20.0\"/><line x1=\"25.0\" x2=\"59.895833333333336\" y1=\"20.0\" y2=\"20.0\"/><line x1=\"16.666666666666668\" x2=\"16.666666666666668\" y1=\"180.0\" y2=\"169.54248366013073\"/><line x1=\"16.666666666666668\" x2=\"25.0\" y1=\"169.54248366013073\" y2=\"169.54248366013073\"/><line x1=\"33.333333333333336\" x2=\"33.333333333333336\" y1=\"180.0\" y2=\"169.54248366013073\"/><line x1=\"33.333333333333336\" x2=\"25.0\" y1=\"169.54248366013073\" y2=\"169.54248366013073\"/><line x1=\"94.79166666666667\" x2=\"94.79166666666667\" y1=\"87.37628384687208\" y2=\"20.0\"/><line x1=\"94.79166666666667\" x2=\"59.895833333333336\" y1=\"20.0\" y2=\"20.0\"/><line x1=\"62.5\" x2=\"62.5\" y1=\"155.20074696545285\" y2=\"87.37628384687208\"/><line x1=\"62.5\" x2=\"94.79166666666667\" y1=\"87.37628384687208\" y2=\"87.37628384687208\"/><line x1=\"50.0\" x2=\"50.0\" y1=\"180.0\" y2=\"155.20074696545285\"/><line x1=\"50.0\" x2=\"62.5\" y1=\"155.20074696545285\" y2=\"155.20074696545285\"/><line x1=\"75.0\" x2=\"75.0\" y1=\"172.08216619981326\" y2=\"155.20074696545285\"/><line x1=\"75.0\" x2=\"62.5\" y1=\"155.20074696545285\" y2=\"155.20074696545285\"/><line x1=\"66.66666666666667\" x2=\"66.66666666666667\" y1=\"180.0\" y2=\"172.08216619981326\"/><line x1=\"66.66666666666667\" x2=\"75.0\" y1=\"172.08216619981326\" y2=\"172.08216619981326\"/><line x1=\"83.33333333333334\" x2=\"83.33333333333334\" y1=\"180.0\" y2=\"172.08216619981326\"/><line x1=\"83.33333333333334\" x2=\"75.0\" y1=\"172.08216619981326\" y2=\"172.08216619981326\"/><line x1=\"127.08333333333334\" x2=\"127.08333333333334\" y1=\"118.4500466853408\" y2=\"87.37628384687208\"/><line x1=\"127.08333333333334\" x2=\"94.79166666666667\" y1=\"87.37628384687208\" y2=\"87.37628384687208\"/><line x1=\"108.33333333333334\" x2=\"108.33333333333334\" y1=\"176.86274509803923\" y2=\"118.4500466853408\"/><line x1=\"108.33333333333334\" x2=\"127.08333333333334\" y1=\"118.4500466853408\" y2=\"118.4500466853408\"/><line x1=\"100.0\" x2=\"100.0\" y1=\"180.0\" y2=\"176.86274509803923\"/><line x1=\"100.0\" x2=\"108.33333333333334\" y1=\"176.86274509803923\" y2=\"176.86274509803923\"/><line x1=\"116.66666666666667\" x2=\"116.66666666666667\" y1=\"180.0\" y2=\"176.86274509803923\"/><line x1=\"116.66666666666667\" x2=\"108.33333333333334\" y1=\"176.86274509803923\" y2=\"176.86274509803923\"/><line x1=\"145.83333333333334\" x2=\"145.83333333333334\" y1=\"144.2950513538749\" y2=\"118.4500466853408\"/><line x1=\"145.83333333333334\" x2=\"127.08333333333334\" y1=\"118.4500466853408\" y2=\"118.4500466853408\"/><line x1=\"133.33333333333334\" x2=\"133.33333333333334\" y1=\"180.0\" y2=\"144.2950513538749\"/><line x1=\"133.33333333333334\" x2=\"145.83333333333334\" y1=\"144.2950513538749\" y2=\"144.2950513538749\"/><line x1=\"158.33333333333334\" x2=\"158.33333333333334\" y1=\"161.32586367880486\" y2=\"144.2950513538749\"/><line x1=\"158.33333333333334\" x2=\"145.83333333333334\" y1=\"144.2950513538749\" y2=\"144.2950513538749\"/><line x1=\"150.0\" x2=\"150.0\" y1=\"180.0\" y2=\"161.32586367880486\"/><line x1=\"150.0\" x2=\"158.33333333333334\" y1=\"161.32586367880486\" y2=\"161.32586367880486\"/><line x1=\"166.66666666666669\" x2=\"166.66666666666669\" y1=\"180.0\" y2=\"161.32586367880486\"/><line x1=\"166.66666666666669\" x2=\"158.33333333333334\" y1=\"161.32586367880486\" y2=\"161.32586367880486\"/></g><g font-size=\"14\" text-anchor=\"start\"><text x=\"99.79166666666667\" y=\"82.37628384687208\">29</text><text x=\"80.0\" y=\"167.08216619981326\">12</text><text x=\"132.08333333333334\" y=\"113.4500466853408\">27</text><text x=\"150.83333333333334\" y=\"139.2950513538749\">22</text><text x=\"163.33333333333334\" y=\"156.32586367880486\">15</text></g><g font-size=\"14\" text-anchor=\"end\"><text x=\"20.0\" y=\"164.54248366013073\">13</text><text x=\"57.5\" y=\"150.20074696545285\">18</text><text x=\"103.33333333333334\" y=\"171.86274509803923\">10</text></g><g font-size=\"14\" text-anchor=\"middle\"><text x=\"59.895833333333336\" y=\"15.0\">35</text><text x=\"16.666666666666668\" y=\"200.0\">4</text><text x=\"33.333333333333336\" y=\"200.0\">9</text><text x=\"50.0\" y=\"200.0\">8</text><text x=\"66.66666666666667\" y=\"200.0\">2</text><text x=\"83.33333333333334\" y=\"200.0\">5</text><text x=\"100.0\" y=\"200.0\">1</text><text x=\"116.66666666666667\" y=\"200.0\">6</text><text x=\"133.33333333333334\" y=\"200.0\">0</text><text x=\"150.0\" y=\"200.0\">3</text><text x=\"166.66666666666669\" y=\"200.0\">7</text></g><circle cx=\"59.895833333333336\" cy=\"20.0\" fill=\"black\" r=\"3\"/><circle cx=\"25.0\" cy=\"169.54248366013073\" fill=\"black\" r=\"3\"/><circle cx=\"16.666666666666668\" cy=\"180.0\" fill=\"black\" r=\"3\"/><circle cx=\"33.333333333333336\" cy=\"180.0\" fill=\"black\" r=\"3\"/><circle cx=\"94.79166666666667\" cy=\"87.37628384687208\" fill=\"black\" r=\"3\"/><circle cx=\"62.5\" cy=\"155.20074696545285\" fill=\"black\" r=\"3\"/><circle cx=\"50.0\" cy=\"180.0\" fill=\"black\" r=\"3\"/><circle cx=\"75.0\" cy=\"172.08216619981326\" fill=\"black\" r=\"3\"/><circle cx=\"66.66666666666667\" cy=\"180.0\" fill=\"black\" r=\"3\"/><circle cx=\"83.33333333333334\" cy=\"180.0\" fill=\"black\" r=\"3\"/><circle cx=\"127.08333333333334\" cy=\"118.4500466853408\" fill=\"black\" r=\"3\"/><circle cx=\"108.33333333333334\" cy=\"176.86274509803923\" fill=\"black\" r=\"3\"/><circle cx=\"100.0\" cy=\"180.0\" fill=\"black\" r=\"3\"/><circle cx=\"116.66666666666667\" cy=\"180.0\" fill=\"black\" r=\"3\"/><circle cx=\"145.83333333333334\" cy=\"144.2950513538749\" fill=\"black\" r=\"3\"/><circle cx=\"133.33333333333334\" cy=\"180.0\" fill=\"black\" r=\"3\"/><circle cx=\"158.33333333333334\" cy=\"161.32586367880486\" fill=\"black\" r=\"3\"/><circle cx=\"150.0\" cy=\"180.0\" fill=\"black\" r=\"3\"/><circle cx=\"166.66666666666669\" cy=\"180.0\" fill=\"black\" r=\"3\"/><g alignment-baseline=\"middle\" font-size=\"14\" font-style=\"italic\" text-anchor=\"start\"/><g alignment-baseline=\"middle\" font-size=\"14\" font-style=\"italic\" text-anchor=\"end\"/></svg>"
      ],
      "text/plain": [
       "<IPython.core.display.SVG object>"
      ]
     },
     "metadata": {},
     "output_type": "display_data"
    }
   ],
   "source": [
    "ts_sub = ts_fwd.simplify(ts_fwd.samples()[:10])\n",
    "for tree in ts_sub.trees():\n",
    "    display(SVG(tree.draw()))\n",
    "    if tree.index == 1:\n",
    "        break # only draw the first 2 \"trees\""
   ]
  },
  {
   "cell_type": "markdown",
   "metadata": {
    "colab_type": "text",
    "id": "n0qJPJTmbV3i"
   },
   "source": [
    "<a id='stats'></a>\n",
    "# 3. Calculations on Tree Sequences\n",
    "The tree sequence format can be seen as an \"evolutionary encoding\" of DNA sequence data: although it is often not needed, the raw sequence (or variant) data can be easily extracted from a tree sequence. The tree sequence also allows efficient calculation of statistics of interest such as pairwise diversity statistics and recombination maps. "
   ]
  },
  {
   "cell_type": "markdown",
   "metadata": {
    "colab_type": "text",
    "id": "U0DVLjbMYUwT"
   },
   "source": [
    "### Extracting sequence data or variants\n",
    "We might be interested in accessing the sequence data that results from simulations directly. The most efficient way to do this is by using the `TreeSequence.variants()` method, which returns an iterator over all the Variant objects arising from the trees and mutations. Each variant contains a reference to the site object, as well as the alleles and the observed sequences for each sample in the genotypes field. As a demonstration, we do this for the simple mutated tree sequence we calculated previously, that only contains one tree."
   ]
  },
  {
   "cell_type": "code",
   "execution_count": 47,
   "metadata": {
    "colab": {
     "base_uri": "https://localhost:8080/",
     "height": 221
    },
    "colab_type": "code",
    "id": "u4_W0s3IZeHN",
    "outputId": "af8446a4-d858-4a38-a655-ca5d9168a2c7"
   },
   "outputs": [
    {
     "data": {
      "image/svg+xml": [
       "<svg baseProfile=\"full\" height=\"200\" version=\"1.1\" width=\"200\" xmlns=\"http://www.w3.org/2000/svg\" xmlns:ev=\"http://www.w3.org/2001/xml-events\" xmlns:xlink=\"http://www.w3.org/1999/xlink\"><defs/><g id=\"lines\" stroke=\"black\"><line x1=\"37.5\" x2=\"37.5\" y1=\"177.93205025022553\" y2=\"20.0\"/><line x1=\"37.5\" x2=\"75.0\" y1=\"20.0\" y2=\"20.0\"/><line x1=\"25.0\" x2=\"25.0\" y1=\"180.0\" y2=\"177.93205025022553\"/><line x1=\"25.0\" x2=\"37.5\" y1=\"177.93205025022553\" y2=\"177.93205025022553\"/><line x1=\"50.0\" x2=\"50.0\" y1=\"180.0\" y2=\"177.93205025022553\"/><line x1=\"50.0\" x2=\"37.5\" y1=\"177.93205025022553\" y2=\"177.93205025022553\"/><line x1=\"112.5\" x2=\"112.5\" y1=\"164.03391608222466\" y2=\"20.0\"/><line x1=\"112.5\" x2=\"75.0\" y1=\"20.0\" y2=\"20.0\"/><line x1=\"87.5\" x2=\"87.5\" y1=\"177.1928288141538\" y2=\"164.03391608222466\"/><line x1=\"87.5\" x2=\"112.5\" y1=\"164.03391608222466\" y2=\"164.03391608222466\"/><line x1=\"75.0\" x2=\"75.0\" y1=\"180.0\" y2=\"177.1928288141538\"/><line x1=\"75.0\" x2=\"87.5\" y1=\"177.1928288141538\" y2=\"177.1928288141538\"/><line x1=\"100.0\" x2=\"100.0\" y1=\"180.0\" y2=\"177.1928288141538\"/><line x1=\"100.0\" x2=\"87.5\" y1=\"177.1928288141538\" y2=\"177.1928288141538\"/><line x1=\"137.5\" x2=\"137.5\" y1=\"176.29863793066755\" y2=\"164.03391608222466\"/><line x1=\"137.5\" x2=\"112.5\" y1=\"164.03391608222466\" y2=\"164.03391608222466\"/><line x1=\"125.0\" x2=\"125.0\" y1=\"180.0\" y2=\"176.29863793066755\"/><line x1=\"125.0\" x2=\"137.5\" y1=\"176.29863793066755\" y2=\"176.29863793066755\"/><line x1=\"150.0\" x2=\"150.0\" y1=\"180.0\" y2=\"176.29863793066755\"/><line x1=\"150.0\" x2=\"137.5\" y1=\"176.29863793066755\" y2=\"176.29863793066755\"/></g><g font-size=\"14\" text-anchor=\"start\"><text x=\"117.5\" y=\"159.03391608222466\">9</text><text x=\"142.5\" y=\"171.29863793066755\">8</text></g><g font-size=\"14\" text-anchor=\"end\"><text x=\"32.5\" y=\"172.93205025022553\">6</text><text x=\"82.5\" y=\"172.1928288141538\">7</text></g><g font-size=\"14\" text-anchor=\"middle\"><text x=\"75.0\" y=\"15.0\">10</text><text x=\"25.0\" y=\"200.0\">0</text><text x=\"50.0\" y=\"200.0\">4</text><text x=\"75.0\" y=\"200.0\">2</text><text x=\"100.0\" y=\"200.0\">5</text><text x=\"125.0\" y=\"200.0\">1</text><text x=\"150.0\" y=\"200.0\">3</text></g><circle cx=\"75.0\" cy=\"20.0\" fill=\"black\" r=\"3\"/><circle cx=\"37.5\" cy=\"177.93205025022553\" fill=\"black\" r=\"3\"/><circle cx=\"25.0\" cy=\"180.0\" fill=\"black\" r=\"3\"/><circle cx=\"50.0\" cy=\"180.0\" fill=\"black\" r=\"3\"/><circle cx=\"112.5\" cy=\"164.03391608222466\" fill=\"black\" r=\"3\"/><circle cx=\"87.5\" cy=\"177.1928288141538\" fill=\"black\" r=\"3\"/><circle cx=\"75.0\" cy=\"180.0\" fill=\"black\" r=\"3\"/><circle cx=\"100.0\" cy=\"180.0\" fill=\"black\" r=\"3\"/><circle cx=\"137.5\" cy=\"176.29863793066755\" fill=\"black\" r=\"3\"/><circle cx=\"125.0\" cy=\"180.0\" fill=\"black\" r=\"3\"/><circle cx=\"150.0\" cy=\"180.0\" fill=\"black\" r=\"3\"/><g alignment-baseline=\"middle\" font-size=\"14\" font-style=\"italic\" text-anchor=\"start\"><text x=\"117.5\" y=\"132.5254370616685\">0</text><text x=\"117.5\" y=\"96.51695804111233\">5</text><text x=\"117.5\" y=\"60.508479020556166\">7</text></g><g alignment-baseline=\"middle\" font-size=\"14\" font-style=\"italic\" text-anchor=\"end\"><text x=\"32.5\" y=\"159.8703287859076\">1</text><text x=\"32.5\" y=\"137.30860732158965\">2</text><text x=\"32.5\" y=\"114.74688585727174\">3</text><text x=\"32.5\" y=\"92.1851643929538\">4</text><text x=\"32.5\" y=\"69.62344292863585\">6</text><text x=\"32.5\" y=\"47.06172146431794\">8</text></g><rect fill=\"red\" height=\"6\" width=\"6\" x=\"109.5\" y=\"125.0254370616685\"/><rect fill=\"red\" height=\"6\" width=\"6\" x=\"109.5\" y=\"89.01695804111233\"/><rect fill=\"red\" height=\"6\" width=\"6\" x=\"109.5\" y=\"53.008479020556166\"/><rect fill=\"red\" height=\"6\" width=\"6\" x=\"34.5\" y=\"152.3703287859076\"/><rect fill=\"red\" height=\"6\" width=\"6\" x=\"34.5\" y=\"129.80860732158965\"/><rect fill=\"red\" height=\"6\" width=\"6\" x=\"34.5\" y=\"107.24688585727174\"/><rect fill=\"red\" height=\"6\" width=\"6\" x=\"34.5\" y=\"84.6851643929538\"/><rect fill=\"red\" height=\"6\" width=\"6\" x=\"34.5\" y=\"62.12344292863585\"/><rect fill=\"red\" height=\"6\" width=\"6\" x=\"34.5\" y=\"39.56172146431794\"/></svg>"
      ],
      "text/plain": [
       "<IPython.core.display.SVG object>"
      ]
     },
     "metadata": {},
     "output_type": "display_data"
    },
    {
     "name": "stdout",
     "output_type": "stream",
     "text": [
      "Variant\t0\t1556.5376146696508\t('0', '1')\t[0 1 1 1 0 1]\n",
      "Variant\t1\t4485.169367399067\t('0', '1')\t[1 0 0 0 1 0]\n",
      "Variant\t2\t9788.562881294638\t('0', '1')\t[1 0 0 0 1 0]\n",
      "Variant\t3\t11759.025033097714\t('0', '1')\t[1 0 0 0 1 0]\n",
      "Variant\t4\t11949.318321421742\t('0', '1')\t[1 0 0 0 1 0]\n",
      "Variant\t5\t14321.766176726669\t('0', '1')\t[0 1 1 1 0 1]\n",
      "Variant\t6\t31454.991386272013\t('0', '1')\t[1 0 0 0 1 0]\n",
      "Variant\t7\t45125.69225626066\t('0', '1')\t[0 1 1 1 0 1]\n",
      "Variant\t8\t49709.6843784675\t('0', '1')\t[1 0 0 0 1 0]\n"
     ]
    }
   ],
   "source": [
    "display(SVG(mut_tree_seq.first().draw()))\n",
    "for variant in mut_tree_seq.variants():\n",
    "    print(\n",
    "        \"Variant\", variant.site.id, variant.site.position,\n",
    "        variant.alleles, variant.genotypes, sep=\"\\t\")"
   ]
  },
  {
   "cell_type": "markdown",
   "metadata": {
    "colab_type": "text",
    "id": "1eSZJSoEZjwy"
   },
   "source": [
    "Here we have looped through each variant, printing out the observed state of each sample as an array of zeros and ones, along with the index and position of the corresponding mutation. In this example, the alleles are always '0' (the ancestral state) and '1' (the derived state), because we are simulating with the infinite sites mutation model, in which each mutation occurs at a unique position in the genome. More complex models are possible, however.\n",
    "\n",
    "This way of working with the sequence data is quite efficient because we do not need to keep the entire genotype matrix in memory at once. However, if we do want the full genotype matrix it is simple to obtain:"
   ]
  },
  {
   "cell_type": "code",
   "execution_count": 19,
   "metadata": {
    "colab": {},
    "colab_type": "code",
    "id": "mxjlAsjfZr3s"
   },
   "outputs": [
    {
     "data": {
      "text/plain": [
       "array([[0, 1, 1, 1, 0, 1],\n",
       "       [1, 0, 0, 0, 1, 0],\n",
       "       [1, 0, 0, 0, 1, 0],\n",
       "       [1, 0, 0, 0, 1, 0],\n",
       "       [1, 0, 0, 0, 1, 0],\n",
       "       [0, 1, 1, 1, 0, 1],\n",
       "       [1, 0, 0, 0, 1, 0],\n",
       "       [0, 1, 1, 1, 0, 1],\n",
       "       [1, 0, 0, 0, 1, 0]], dtype=uint8)"
      ]
     },
     "execution_count": 19,
     "metadata": {},
     "output_type": "execute_result"
    }
   ],
   "source": [
    "A = mut_tree_seq.genotype_matrix()\n",
    "A"
   ]
  },
  {
   "cell_type": "markdown",
   "metadata": {
    "colab_type": "text",
    "id": "UczpeoDMq_jU"
   },
   "source": [
    "## Integration with `scikit-allel`\n",
    "\n",
    "Because tskit integrates tightly with numpy, we can export data into a number of upstream toolkits very efficiently. In particular, we can export data into [scikit allel](scikit-allel.readthedocs.io/en/latest/) very easily:"
   ]
  },
  {
   "cell_type": "code",
   "execution_count": 39,
   "metadata": {
    "colab": {},
    "colab_type": "code",
    "id": "6jprOcpvp63c"
   },
   "outputs": [],
   "source": [
    "# Run a simple simulation\n",
    "ts = msprime.simulate(\n",
    "    sample_size=1000, Ne=10000, length=1e6, mutation_rate=1e-8,\n",
    "    recombination_rate=1e-8,random_seed=10)\n"
   ]
  },
  {
   "cell_type": "code",
   "execution_count": 40,
   "metadata": {},
   "outputs": [
    {
     "data": {
      "text/plain": [
       "(3076, 1000)"
      ]
     },
     "execution_count": 40,
     "metadata": {},
     "output_type": "execute_result"
    }
   ],
   "source": [
    "ts.num_sites, ts.num_samples"
   ]
  },
  {
   "cell_type": "code",
   "execution_count": 43,
   "metadata": {
    "colab": {
     "base_uri": "https://localhost:8080/",
     "height": 34
    },
    "colab_type": "code",
    "id": "TFTFHW5v5Bxl",
    "outputId": "01ebc8cd-e428-4ef7-c0db-b29ec8b008a7",
    "scrolled": true
   },
   "outputs": [
    {
     "name": "stdout",
     "output_type": "stream",
     "text": [
      "3076 1000\n"
     ]
    },
    {
     "data": {
      "text/html": [
       "<div class=\"allel allel-DisplayAs2D\"><span>&lt;HaplotypeArray shape=(3076, 1000) dtype=uint8&gt;</span><table><thead><tr><th></th><th style=\"text-align: center\">0</th><th style=\"text-align: center\">1</th><th style=\"text-align: center\">2</th><th style=\"text-align: center\">3</th><th style=\"text-align: center\">4</th><th style=\"text-align: center\">...</th><th style=\"text-align: center\">995</th><th style=\"text-align: center\">996</th><th style=\"text-align: center\">997</th><th style=\"text-align: center\">998</th><th style=\"text-align: center\">999</th></tr></thead><tbody><tr><th style=\"text-align: center; background-color: white; border-right: 1px solid black; \">0</th><td style=\"text-align: center\">0</td><td style=\"text-align: center\">0</td><td style=\"text-align: center\">0</td><td style=\"text-align: center\">0</td><td style=\"text-align: center\">0</td><td style=\"text-align: center\">...</td><td style=\"text-align: center\">0</td><td style=\"text-align: center\">0</td><td style=\"text-align: center\">0</td><td style=\"text-align: center\">0</td><td style=\"text-align: center\">0</td></tr><tr><th style=\"text-align: center; background-color: white; border-right: 1px solid black; \">1</th><td style=\"text-align: center\">0</td><td style=\"text-align: center\">0</td><td style=\"text-align: center\">0</td><td style=\"text-align: center\">0</td><td style=\"text-align: center\">0</td><td style=\"text-align: center\">...</td><td style=\"text-align: center\">1</td><td style=\"text-align: center\">0</td><td style=\"text-align: center\">0</td><td style=\"text-align: center\">0</td><td style=\"text-align: center\">0</td></tr><tr><th style=\"text-align: center; background-color: white; border-right: 1px solid black; \">2</th><td style=\"text-align: center\">0</td><td style=\"text-align: center\">0</td><td style=\"text-align: center\">0</td><td style=\"text-align: center\">0</td><td style=\"text-align: center\">0</td><td style=\"text-align: center\">...</td><td style=\"text-align: center\">0</td><td style=\"text-align: center\">0</td><td style=\"text-align: center\">0</td><td style=\"text-align: center\">0</td><td style=\"text-align: center\">0</td></tr><tr><th style=\"text-align: center; background-color: white; border-right: 1px solid black; \">...</th><td style=\"text-align: center\" colspan=\"12\">...</td></tr><tr><th style=\"text-align: center; background-color: white; border-right: 1px solid black; \">3073</th><td style=\"text-align: center\">0</td><td style=\"text-align: center\">0</td><td style=\"text-align: center\">0</td><td style=\"text-align: center\">0</td><td style=\"text-align: center\">0</td><td style=\"text-align: center\">...</td><td style=\"text-align: center\">0</td><td style=\"text-align: center\">0</td><td style=\"text-align: center\">0</td><td style=\"text-align: center\">0</td><td style=\"text-align: center\">0</td></tr><tr><th style=\"text-align: center; background-color: white; border-right: 1px solid black; \">3074</th><td style=\"text-align: center\">0</td><td style=\"text-align: center\">0</td><td style=\"text-align: center\">0</td><td style=\"text-align: center\">0</td><td style=\"text-align: center\">0</td><td style=\"text-align: center\">...</td><td style=\"text-align: center\">0</td><td style=\"text-align: center\">0</td><td style=\"text-align: center\">0</td><td style=\"text-align: center\">0</td><td style=\"text-align: center\">0</td></tr><tr><th style=\"text-align: center; background-color: white; border-right: 1px solid black; \">3075</th><td style=\"text-align: center\">0</td><td style=\"text-align: center\">0</td><td style=\"text-align: center\">0</td><td style=\"text-align: center\">0</td><td style=\"text-align: center\">0</td><td style=\"text-align: center\">...</td><td style=\"text-align: center\">0</td><td style=\"text-align: center\">0</td><td style=\"text-align: center\">0</td><td style=\"text-align: center\">0</td><td style=\"text-align: center\">0</td></tr></tbody></table></div>"
      ],
      "text/plain": [
       "<HaplotypeArray shape=(3076, 1000) dtype=uint8>\n",
       "0 0 0 0 0 ... 0 0 0 0 0\n",
       "0 0 0 0 0 ... 1 0 0 0 0\n",
       "0 0 0 0 0 ... 0 0 0 0 0\n",
       "...\n",
       "0 0 0 0 0 ... 0 0 0 0 0\n",
       "0 0 0 0 0 ... 0 0 0 0 0\n",
       "0 0 0 0 0 ... 0 0 0 0 0"
      ]
     },
     "execution_count": 43,
     "metadata": {},
     "output_type": "execute_result"
    }
   ],
   "source": [
    "import allel\n",
    "\n",
    "# Export the genotype data to allel. Unfortunately there's a slight mismatch in the \n",
    "# terminology here where genotypes and haplotypes mean different things in the two\n",
    "# libraries.\n",
    "h = allel.HaplotypeArray(ts.genotype_matrix())\n",
    "print(h.n_variants, h.n_haplotypes)\n",
    "h"
   ]
  },
  {
   "cell_type": "markdown",
   "metadata": {},
   "source": [
    "Sckit.allel has a wide-ranging and efficient suite of tools for working with genotype data, so should provide anything that's needed. For example, we can compute pairwise diversity, $\\pi$."
   ]
  },
  {
   "cell_type": "code",
   "execution_count": 44,
   "metadata": {
    "colab": {},
    "colab_type": "code",
    "id": "W9Do3oeHqska",
    "scrolled": true
   },
   "outputs": [
    {
     "data": {
      "text/plain": [
       "array([0.02177978, 0.34577778, 0.002     , ..., 0.003996  , 0.003996  ,\n",
       "       0.002     ])"
      ]
     },
     "execution_count": 44,
     "metadata": {},
     "output_type": "execute_result"
    }
   ],
   "source": [
    "ac = h.count_alleles()\n",
    "v = allel.stats.mean_pairwise_difference(ac)\n",
    "v"
   ]
  },
  {
   "cell_type": "markdown",
   "metadata": {},
   "source": [
    "Tskit also supports computing statistics directly from the trees, and can be much faster than alternatives for large tree sequences, especially if (as we shall soon see) the statistic can be calculated incrementally. Only a handful of statistics are currently supported, but many will be implemented soon."
   ]
  },
  {
   "cell_type": "code",
   "execution_count": 45,
   "metadata": {
    "scrolled": true
   },
   "outputs": [
    {
     "data": {
      "text/plain": [
       "(404.21165765765767, 404.2116576576576)"
      ]
     },
     "execution_count": 45,
     "metadata": {},
     "output_type": "execute_result"
    }
   ],
   "source": [
    "ts.pairwise_diversity(), np.sum(v)"
   ]
  },
  {
   "cell_type": "markdown",
   "metadata": {
    "colab_type": "text",
    "id": "cx631TSWkvQR"
   },
   "source": [
    "## LD Plot\n",
    "The msprime API provides methods to efficiently calculate population genetics statistics. For example, the LdCalculator class allows us to compute pairwise linkage disequilibrium coefficients. Here we use the get_r2_matrix() method to easily make an LD plot using matplotlib. (Thanks to the excellent scikit-allel for the basic plotting code used here.)"
   ]
  },
  {
   "cell_type": "code",
   "execution_count": 145,
   "metadata": {
    "colab": {},
    "colab_type": "code",
    "id": "iUj2SKlakshk"
   },
   "outputs": [
    {
     "data": {
      "image/png": "[encoded data removed]",
      "text/plain": [
       "<Figure size 432x432 with 2 Axes>"
      ]
     },
     "metadata": {
      "needs_background": "light"
     },
     "output_type": "display_data"
    }
   ],
   "source": [
    "\n",
    "ts = msprime.simulate(100, recombination_rate=10, mutation_rate=20, random_seed=1)\n",
    "ld_calc = msprime.LdCalculator(ts)\n",
    "A = ld_calc.r2_matrix()\n",
    "# Now plot this matrix.\n",
    "x = A.shape[0] / plt.rcParams['figure.dpi']\n",
    "x = max(x, plt.rcParams['figure.figsize'][0])\n",
    "fig, ax = plt.subplots(figsize=(x, x))\n",
    "fig.tight_layout(pad=0)\n",
    "im = ax.imshow(A, interpolation=\"none\", vmin=0, vmax=1, cmap=\"Blues\")\n",
    "ax.set_xticks([])\n",
    "ax.set_yticks([])\n",
    "for s in 'top', 'bottom', 'left', 'right':\n",
    "    ax.spines[s].set_visible(False)\n",
    "plt.gcf().colorbar(im, shrink=.5, pad=0);     \n",
    "    \n"
   ]
  },
  {
   "cell_type": "markdown",
   "metadata": {
    "colab_type": "text",
    "id": "uAYu1lw1UwQM"
   },
   "source": [
    "## Very large datasets\n",
    "\n",
    "One of the big advantages of msprime/tskit is that we can simulate and process genetic data on a very large scale. For example, here is a simulation of 100K human-like 10Mb chromosomes:"
   ]
  },
  {
   "cell_type": "code",
   "execution_count": 55,
   "metadata": {},
   "outputs": [
    {
     "name": "stdout",
     "output_type": "stream",
     "text": [
      "CPU times: user 6.59 s, sys: 172 ms, total: 6.76 s\n",
      "Wall time: 6.88 s\n"
     ]
    }
   ],
   "source": [
    "%%time\n",
    "ts = msprime.simulate(\n",
    "    sample_size=10**5, length=1e7, recombination_rate=1e-8, Ne=10**4, random_seed=42)"
   ]
  },
  {
   "cell_type": "code",
   "execution_count": 56,
   "metadata": {},
   "outputs": [
    {
     "data": {
      "text/plain": [
       "45287"
      ]
     },
     "execution_count": 56,
     "metadata": {},
     "output_type": "execute_result"
    }
   ],
   "source": [
    "ts.num_trees"
   ]
  },
  {
   "cell_type": "code",
   "execution_count": 57,
   "metadata": {
    "colab": {},
    "colab_type": "code",
    "id": "lJiA1DtyUt8X"
   },
   "outputs": [
    {
     "name": "stdout",
     "output_type": "stream",
     "text": [
      "Size = 16.711803436279297MiB\n"
     ]
    }
   ],
   "source": [
    "# Write the tree sequence to file.\n",
    "ts.dump(\"data/large-ts-no-mutations.trees\")\n",
    "\n",
    "# Get the size\n",
    "import os\n",
    "print(\"File size = {}MiB\".format(os.path.getsize(\"data/large-ts-no-mutations.trees\") / 2**20))"
   ]
  },
  {
   "cell_type": "code",
   "execution_count": 58,
   "metadata": {
    "colab": {},
    "colab_type": "code",
    "id": "ce0NEqUPaejX"
   },
   "outputs": [
    {
     "name": "stdout",
     "output_type": "stream",
     "text": [
      "CPU times: user 31 ms, sys: 24 ms, total: 54.9 ms\n",
      "Wall time: 54.4 ms\n"
     ]
    }
   ],
   "source": [
    "%%time\n",
    "# Loading is fast\n",
    "ts = msprime.load(\"data/large-ts-no-mutations.trees\")"
   ]
  },
  {
   "cell_type": "code",
   "execution_count": 59,
   "metadata": {
    "scrolled": false
   },
   "outputs": [
    {
     "name": "stdout",
     "output_type": "stream",
     "text": [
      "10000000.0 10000000.0\n",
      "CPU times: user 197 ms, sys: 6.75 ms, total: 204 ms\n",
      "Wall time: 209 ms\n"
     ]
    }
   ],
   "source": [
    "%%time\n",
    "# So is iterating over all trees\n",
    "total = 0  \n",
    "for tree in ts.trees():\n",
    "    total += tree.interval[1] - tree.interval[0] # Just to do *something* in the loop\n",
    "\n",
    "print(total, ts.sequence_length)"
   ]
  },
  {
   "cell_type": "code",
   "execution_count": 60,
   "metadata": {},
   "outputs": [
    {
     "name": "stdout",
     "output_type": "stream",
     "text": [
      "CPU times: user 16.2 s, sys: 2.56 s, total: 18.8 s\n",
      "Wall time: 20.7 s\n"
     ]
    }
   ],
   "source": [
    "%%time\n",
    "# Insert a ridiculous number of mutations\n",
    "mutated_ts = msprime.mutate(ts, rate=1e-6, random_seed=42) # deliberately high mutation rate"
   ]
  },
  {
   "cell_type": "code",
   "execution_count": 62,
   "metadata": {},
   "outputs": [
    {
     "name": "stdout",
     "output_type": "stream",
     "text": [
      "We just created 4,844,253 variant sites!\n"
     ]
    }
   ],
   "source": [
    "print(\"We just created {:,} variant sites!\".format(mutated_ts.num_sites))"
   ]
  },
  {
   "cell_type": "code",
   "execution_count": 58,
   "metadata": {},
   "outputs": [
    {
     "name": "stdout",
     "output_type": "stream",
     "text": [
      "Tree sequence size = 192.27MiB\n"
     ]
    }
   ],
   "source": [
    "mutated_ts.dump(\"data/large-ts-mutations.trees\")\n",
    "\n",
    "print(\"Tree sequence size = {:.2f}MiB\".format(os.path.getsize(\"data/large-ts-mutations.trees\") / 2**20))"
   ]
  },
  {
   "cell_type": "code",
   "execution_count": 57,
   "metadata": {},
   "outputs": [
    {
     "name": "stdout",
     "output_type": "stream",
     "text": [
      "Genotype matrix size: 451.16GiB\n"
     ]
    }
   ],
   "source": [
    "print(\"Genotype matrix size: {:.2f}GiB\".format(\n",
    "    mutated_ts.num_sites * mutated_ts.num_samples / 2**30))"
   ]
  },
  {
   "cell_type": "code",
   "execution_count": 59,
   "metadata": {},
   "outputs": [
    {
     "name": "stdout",
     "output_type": "stream",
     "text": [
      "CPU times: user 98.1 ms, sys: 4.04 ms, total: 102 ms\n",
      "Wall time: 102 ms\n"
     ]
    },
    {
     "data": {
      "text/plain": [
       "400360.76293350634"
      ]
     },
     "execution_count": 59,
     "metadata": {},
     "output_type": "execute_result"
    }
   ],
   "source": [
    "%%time\n",
    "mutated_ts.pairwise_diversity()"
   ]
  },
  {
   "cell_type": "markdown",
   "metadata": {},
   "source": [
    "## Incremental calculations\n",
    "\n",
    "The tree sequence data structure is efficient because it captures the shared structure between adjacent trees. Understanding how trees change as we move across the sequence is also critical for defining efficient algorithms.\n",
    "\n",
    "Consider the problem of computing the total branch length. In a single tree, all we can do is to iterate over all the nodes and sum the length of each branch. If we repeat this for every tree in the sequence, this ends up being a slow operation:"
   ]
  },
  {
   "cell_type": "code",
   "execution_count": 63,
   "metadata": {},
   "outputs": [
    {
     "name": "stdout",
     "output_type": "stream",
     "text": [
      "[571111.36722641 570906.04178704 570929.28798328 570929.26852078\n",
      " 570842.83922985]\n",
      "CPU times: user 1min 10s, sys: 910 ms, total: 1min 11s\n",
      "Wall time: 1min 13s\n"
     ]
    }
   ],
   "source": [
    "%%time\n",
    "total_branch_length = np.zeros(ts.num_trees)\n",
    "for tree in ts.trees():\n",
    "    total_branch_length[tree.index] = tree.total_branch_length\n",
    "    if tree.index == 50:\n",
    "        break\n",
    "\n",
    "print(total_branch_length[:5])"
   ]
  },
  {
   "cell_type": "code",
   "execution_count": null,
   "metadata": {},
   "outputs": [],
   "source": []
  },
  {
   "cell_type": "markdown",
   "metadata": {},
   "source": [
    "Here it takes tens of seconds to compute the total branch length for the first 50 trees --- these are large trees with 200K nodes! Since there are about 1000 times more trees than this, it will take a long time to compute the total branch length for all trees.\n",
    "\n",
    "However, we can do much better than this. As we noted in the introductory section, the [`edge_diffs()`](https://msprime.readthedocs.io/en/stable/api.html#msprime.TreeSequence.edge_diffs) method returns an iterator over the edges that are inserted and removed for each tree in turn. Trees don't change very much as we move across the tree sequence; in fact, for coalescent trees, we know that there are at most **four** edges that are removed and inserted at each tree transition. By taking this information into account, we can compute the total branch length for all trees in a tiny fraction of the time:"
   ]
  },
  {
   "cell_type": "code",
   "execution_count": 130,
   "metadata": {},
   "outputs": [
    {
     "name": "stdout",
     "output_type": "stream",
     "text": [
      "[571111.36722641 570906.04178704 570929.28798328 570929.26852078\n",
      " 570842.83922985]\n",
      "CPU times: user 487 ms, sys: 23.9 ms, total: 511 ms\n",
      "Wall time: 510 ms\n"
     ]
    }
   ],
   "source": [
    "%%time\n",
    "current = 0\n",
    "total_branch_length = np.zeros(ts.num_trees)\n",
    "node_time = ts.tables.nodes.time\n",
    "for j, (_, edges_out, edges_in) in enumerate(ts.edge_diffs()):\n",
    "    for e in edges_out:\n",
    "        current -= node_time[e.parent] - node_time[e.child]\n",
    "    for e in edges_in:\n",
    "        current += node_time[e.parent] - node_time[e.child]\n",
    "    total_branch_length[j] = current\n",
    "\n",
    "print(total_branch_length[:5])"
   ]
  },
  {
   "cell_type": "code",
   "execution_count": 134,
   "metadata": {},
   "outputs": [
    {
     "data": {
      "image/png": "[encoded data removed]",
      "text/plain": [
       "<Figure size 432x288 with 1 Axes>"
      ]
     },
     "metadata": {
      "needs_background": "light"
     },
     "output_type": "display_data"
    }
   ],
   "source": [
    "plt.plot(total_branch_length);"
   ]
  },
  {
   "cell_type": "markdown",
   "metadata": {},
   "source": [
    "## Tables API\n",
    "\n",
    "The tables API provides a very efficient way of getting at the underlying numerical data representing the tree sequence. Suppose we wished to plot the distribution of the length of the edges in the simulation (an edge is a (left, right, parent, child) tuple describing a branch in the trees spanning the interval from left to right).\n",
    "\n",
    "See the [documentation](https://msprime.readthedocs.io/en/stable/api.html#tables-api) on this API."
   ]
  },
  {
   "cell_type": "code",
   "execution_count": 102,
   "metadata": {},
   "outputs": [
    {
     "name": "stdout",
     "output_type": "stream",
     "text": [
      "CPU times: user 38.6 ms, sys: 3.84 ms, total: 42.4 ms\n",
      "Wall time: 41.2 ms\n"
     ]
    }
   ],
   "source": [
    "%%time\n",
    "tables = mutated_ts.tables\n",
    "edge_length = tables.edges.right - tables.edges.left"
   ]
  },
  {
   "cell_type": "code",
   "execution_count": 103,
   "metadata": {
    "scrolled": true
   },
   "outputs": [
    {
     "data": {
      "image/png": "[encoded data removed]",
      "text/plain": [
       "<Figure size 432x288 with 1 Axes>"
      ]
     },
     "metadata": {
      "needs_background": "light"
     },
     "output_type": "display_data"
    }
   ],
   "source": [
    "plt.hist(edge_length);"
   ]
  },
  {
   "cell_type": "markdown",
   "metadata": {},
   "source": [
    "We can also use this to access information about the sites and mutations (which are in their own respective tables --- see the [data model](https://msprime.readthedocs.io/en/stable/interchange.html#sec-data-model) for details). Here, for example, we get an array of the time of each mutation (or, more accurately, the time of the node over which each mutation occured), find how many of these are old and plot their age distribution."
   ]
  },
  {
   "cell_type": "code",
   "execution_count": 97,
   "metadata": {},
   "outputs": [
    {
     "name": "stdout",
     "output_type": "stream",
     "text": [
      "number of mutations older than 10% of the oldest time =  83443\n"
     ]
    }
   ],
   "source": [
    "oldest_time = np.max(tables.nodes.time)\n",
    "mutation_time = tables.nodes.time[tables.mutations.node]\n",
    "index = mutation_time > (oldest_time / 10)\n",
    "print(\"number of mutations older than 10% of the oldest time = \", np.sum(index))"
   ]
  },
  {
   "cell_type": "code",
   "execution_count": 98,
   "metadata": {},
   "outputs": [
    {
     "data": {
      "image/png": "[encoded data removed]",
      "text/plain": [
       "<Figure size 432x288 with 1 Axes>"
      ]
     },
     "metadata": {
      "needs_background": "light"
     },
     "output_type": "display_data"
    }
   ],
   "source": [
    "plt.hist(mutation_time[index]);"
   ]
  }
 ],
 "metadata": {
  "colab": {
   "collapsed_sections": [],
   "name": "ts_workshop.ipynb",
   "provenance": [],
   "toc_visible": true,
   "version": "0.3.2"
  },
  "kernelspec": {
   "display_name": "Python 3",
   "language": "python",
   "name": "python3"
  },
  "language_info": {
   "codemirror_mode": {
    "name": "ipython",
    "version": 3
   },
   "file_extension": ".py",
   "mimetype": "text/x-python",
   "name": "python",
   "nbconvert_exporter": "python",
   "pygments_lexer": "ipython3",
   "version": "3.7.1"
  }
 },
 "nbformat": 4,
 "nbformat_minor": 1
}
